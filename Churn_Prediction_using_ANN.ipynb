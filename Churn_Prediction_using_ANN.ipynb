{
  "nbformat": 4,
  "nbformat_minor": 0,
  "metadata": {
    "colab": {
      "name": "Churn Prediction using ANN.ipynb",
      "provenance": [],
      "authorship_tag": "ABX9TyNJ6yK1XmgnIJFnIU2HUlJk",
      "include_colab_link": true
    },
    "kernelspec": {
      "name": "python3",
      "display_name": "Python 3"
    },
    "accelerator": "GPU"
  },
  "cells": [
    {
      "cell_type": "markdown",
      "metadata": {
        "id": "view-in-github",
        "colab_type": "text"
      },
      "source": [
        "<a href=\"https://colab.research.google.com/github/nasiksami/Deep-Learning/blob/main/Churn_Prediction_using_ANN.ipynb\" target=\"_parent\"><img src=\"https://colab.research.google.com/assets/colab-badge.svg\" alt=\"Open In Colab\"/></a>"
      ]
    },
    {
      "cell_type": "markdown",
      "metadata": {
        "id": "UQD4PrvcRgFK"
      },
      "source": [
        "Dataset link: https://www.kaggle.com/shrutimechlearn/churn-modelling/notebooks"
      ]
    },
    {
      "cell_type": "code",
      "metadata": {
        "id": "7rGvjziUOqG2"
      },
      "source": [
        "import numpy as np\n",
        "import matplotlib.pyplot as plt\n",
        "import pandas as pd\n"
      ],
      "execution_count": 1,
      "outputs": []
    },
    {
      "cell_type": "code",
      "metadata": {
        "id": "knlZBQO0Oz4P"
      },
      "source": [
        "dataset = pd.read_csv('Churn_Modelling.csv')\n"
      ],
      "execution_count": 2,
      "outputs": []
    },
    {
      "cell_type": "code",
      "metadata": {
        "colab": {
          "base_uri": "https://localhost:8080/",
          "height": 224
        },
        "id": "Bb2k3W79O1In",
        "outputId": "ea4fd488-db9e-4de6-94a2-bda1b02e83fe"
      },
      "source": [
        "dataset.head(5)"
      ],
      "execution_count": 3,
      "outputs": [
        {
          "output_type": "execute_result",
          "data": {
            "text/html": [
              "<div>\n",
              "<style scoped>\n",
              "    .dataframe tbody tr th:only-of-type {\n",
              "        vertical-align: middle;\n",
              "    }\n",
              "\n",
              "    .dataframe tbody tr th {\n",
              "        vertical-align: top;\n",
              "    }\n",
              "\n",
              "    .dataframe thead th {\n",
              "        text-align: right;\n",
              "    }\n",
              "</style>\n",
              "<table border=\"1\" class=\"dataframe\">\n",
              "  <thead>\n",
              "    <tr style=\"text-align: right;\">\n",
              "      <th></th>\n",
              "      <th>RowNumber</th>\n",
              "      <th>CustomerId</th>\n",
              "      <th>Surname</th>\n",
              "      <th>CreditScore</th>\n",
              "      <th>Geography</th>\n",
              "      <th>Gender</th>\n",
              "      <th>Age</th>\n",
              "      <th>Tenure</th>\n",
              "      <th>Balance</th>\n",
              "      <th>NumOfProducts</th>\n",
              "      <th>HasCrCard</th>\n",
              "      <th>IsActiveMember</th>\n",
              "      <th>EstimatedSalary</th>\n",
              "      <th>Exited</th>\n",
              "    </tr>\n",
              "  </thead>\n",
              "  <tbody>\n",
              "    <tr>\n",
              "      <th>0</th>\n",
              "      <td>1</td>\n",
              "      <td>15634602</td>\n",
              "      <td>Hargrave</td>\n",
              "      <td>619</td>\n",
              "      <td>France</td>\n",
              "      <td>Female</td>\n",
              "      <td>42</td>\n",
              "      <td>2</td>\n",
              "      <td>0.00</td>\n",
              "      <td>1</td>\n",
              "      <td>1</td>\n",
              "      <td>1</td>\n",
              "      <td>101348.88</td>\n",
              "      <td>1</td>\n",
              "    </tr>\n",
              "    <tr>\n",
              "      <th>1</th>\n",
              "      <td>2</td>\n",
              "      <td>15647311</td>\n",
              "      <td>Hill</td>\n",
              "      <td>608</td>\n",
              "      <td>Spain</td>\n",
              "      <td>Female</td>\n",
              "      <td>41</td>\n",
              "      <td>1</td>\n",
              "      <td>83807.86</td>\n",
              "      <td>1</td>\n",
              "      <td>0</td>\n",
              "      <td>1</td>\n",
              "      <td>112542.58</td>\n",
              "      <td>0</td>\n",
              "    </tr>\n",
              "    <tr>\n",
              "      <th>2</th>\n",
              "      <td>3</td>\n",
              "      <td>15619304</td>\n",
              "      <td>Onio</td>\n",
              "      <td>502</td>\n",
              "      <td>France</td>\n",
              "      <td>Female</td>\n",
              "      <td>42</td>\n",
              "      <td>8</td>\n",
              "      <td>159660.80</td>\n",
              "      <td>3</td>\n",
              "      <td>1</td>\n",
              "      <td>0</td>\n",
              "      <td>113931.57</td>\n",
              "      <td>1</td>\n",
              "    </tr>\n",
              "    <tr>\n",
              "      <th>3</th>\n",
              "      <td>4</td>\n",
              "      <td>15701354</td>\n",
              "      <td>Boni</td>\n",
              "      <td>699</td>\n",
              "      <td>France</td>\n",
              "      <td>Female</td>\n",
              "      <td>39</td>\n",
              "      <td>1</td>\n",
              "      <td>0.00</td>\n",
              "      <td>2</td>\n",
              "      <td>0</td>\n",
              "      <td>0</td>\n",
              "      <td>93826.63</td>\n",
              "      <td>0</td>\n",
              "    </tr>\n",
              "    <tr>\n",
              "      <th>4</th>\n",
              "      <td>5</td>\n",
              "      <td>15737888</td>\n",
              "      <td>Mitchell</td>\n",
              "      <td>850</td>\n",
              "      <td>Spain</td>\n",
              "      <td>Female</td>\n",
              "      <td>43</td>\n",
              "      <td>2</td>\n",
              "      <td>125510.82</td>\n",
              "      <td>1</td>\n",
              "      <td>1</td>\n",
              "      <td>1</td>\n",
              "      <td>79084.10</td>\n",
              "      <td>0</td>\n",
              "    </tr>\n",
              "  </tbody>\n",
              "</table>\n",
              "</div>"
            ],
            "text/plain": [
              "   RowNumber  CustomerId   Surname  ...  IsActiveMember EstimatedSalary Exited\n",
              "0          1    15634602  Hargrave  ...               1       101348.88      1\n",
              "1          2    15647311      Hill  ...               1       112542.58      0\n",
              "2          3    15619304      Onio  ...               0       113931.57      1\n",
              "3          4    15701354      Boni  ...               0        93826.63      0\n",
              "4          5    15737888  Mitchell  ...               1        79084.10      0\n",
              "\n",
              "[5 rows x 14 columns]"
            ]
          },
          "metadata": {
            "tags": []
          },
          "execution_count": 3
        }
      ]
    },
    {
      "cell_type": "code",
      "metadata": {
        "id": "IrrIoc6mO2a7"
      },
      "source": [
        "X = dataset.iloc[:, 3:13]\n",
        "y = dataset.iloc[:, 13]"
      ],
      "execution_count": 4,
      "outputs": []
    },
    {
      "cell_type": "code",
      "metadata": {
        "id": "E6VBnp2JO309"
      },
      "source": [
        "#Create dummy variables\n",
        "geography=pd.get_dummies(X[\"Geography\"],drop_first=True)\n",
        "gender=pd.get_dummies(X['Gender'],drop_first=True)"
      ],
      "execution_count": 5,
      "outputs": []
    },
    {
      "cell_type": "code",
      "metadata": {
        "id": "tKqHdQsNO5dC"
      },
      "source": [
        "## Concatenate the Data Frames\n",
        "\n",
        "X=pd.concat([X,geography,gender],axis=1)"
      ],
      "execution_count": 6,
      "outputs": []
    },
    {
      "cell_type": "code",
      "metadata": {
        "id": "EKSUXKd_O6lR"
      },
      "source": [
        "## Drop Unnecessary columns\n",
        "X=X.drop(['Geography','Gender'],axis=1)\n"
      ],
      "execution_count": 7,
      "outputs": []
    },
    {
      "cell_type": "code",
      "metadata": {
        "id": "_xiT69ulO7qA"
      },
      "source": [
        "# Splitting the dataset into the Training set and Test set\n",
        "from sklearn.model_selection import train_test_split\n",
        "X_train, X_test, y_train, y_test = train_test_split(X, y, test_size = 0.2, random_state = 0)"
      ],
      "execution_count": 8,
      "outputs": []
    },
    {
      "cell_type": "code",
      "metadata": {
        "colab": {
          "base_uri": "https://localhost:8080/",
          "height": 224
        },
        "id": "-snKLm9eO9qA",
        "outputId": "17b71788-c9e1-4b12-f2c7-223f9c1701d8"
      },
      "source": [
        "dataset.head(5)"
      ],
      "execution_count": 9,
      "outputs": [
        {
          "output_type": "execute_result",
          "data": {
            "text/html": [
              "<div>\n",
              "<style scoped>\n",
              "    .dataframe tbody tr th:only-of-type {\n",
              "        vertical-align: middle;\n",
              "    }\n",
              "\n",
              "    .dataframe tbody tr th {\n",
              "        vertical-align: top;\n",
              "    }\n",
              "\n",
              "    .dataframe thead th {\n",
              "        text-align: right;\n",
              "    }\n",
              "</style>\n",
              "<table border=\"1\" class=\"dataframe\">\n",
              "  <thead>\n",
              "    <tr style=\"text-align: right;\">\n",
              "      <th></th>\n",
              "      <th>RowNumber</th>\n",
              "      <th>CustomerId</th>\n",
              "      <th>Surname</th>\n",
              "      <th>CreditScore</th>\n",
              "      <th>Geography</th>\n",
              "      <th>Gender</th>\n",
              "      <th>Age</th>\n",
              "      <th>Tenure</th>\n",
              "      <th>Balance</th>\n",
              "      <th>NumOfProducts</th>\n",
              "      <th>HasCrCard</th>\n",
              "      <th>IsActiveMember</th>\n",
              "      <th>EstimatedSalary</th>\n",
              "      <th>Exited</th>\n",
              "    </tr>\n",
              "  </thead>\n",
              "  <tbody>\n",
              "    <tr>\n",
              "      <th>0</th>\n",
              "      <td>1</td>\n",
              "      <td>15634602</td>\n",
              "      <td>Hargrave</td>\n",
              "      <td>619</td>\n",
              "      <td>France</td>\n",
              "      <td>Female</td>\n",
              "      <td>42</td>\n",
              "      <td>2</td>\n",
              "      <td>0.00</td>\n",
              "      <td>1</td>\n",
              "      <td>1</td>\n",
              "      <td>1</td>\n",
              "      <td>101348.88</td>\n",
              "      <td>1</td>\n",
              "    </tr>\n",
              "    <tr>\n",
              "      <th>1</th>\n",
              "      <td>2</td>\n",
              "      <td>15647311</td>\n",
              "      <td>Hill</td>\n",
              "      <td>608</td>\n",
              "      <td>Spain</td>\n",
              "      <td>Female</td>\n",
              "      <td>41</td>\n",
              "      <td>1</td>\n",
              "      <td>83807.86</td>\n",
              "      <td>1</td>\n",
              "      <td>0</td>\n",
              "      <td>1</td>\n",
              "      <td>112542.58</td>\n",
              "      <td>0</td>\n",
              "    </tr>\n",
              "    <tr>\n",
              "      <th>2</th>\n",
              "      <td>3</td>\n",
              "      <td>15619304</td>\n",
              "      <td>Onio</td>\n",
              "      <td>502</td>\n",
              "      <td>France</td>\n",
              "      <td>Female</td>\n",
              "      <td>42</td>\n",
              "      <td>8</td>\n",
              "      <td>159660.80</td>\n",
              "      <td>3</td>\n",
              "      <td>1</td>\n",
              "      <td>0</td>\n",
              "      <td>113931.57</td>\n",
              "      <td>1</td>\n",
              "    </tr>\n",
              "    <tr>\n",
              "      <th>3</th>\n",
              "      <td>4</td>\n",
              "      <td>15701354</td>\n",
              "      <td>Boni</td>\n",
              "      <td>699</td>\n",
              "      <td>France</td>\n",
              "      <td>Female</td>\n",
              "      <td>39</td>\n",
              "      <td>1</td>\n",
              "      <td>0.00</td>\n",
              "      <td>2</td>\n",
              "      <td>0</td>\n",
              "      <td>0</td>\n",
              "      <td>93826.63</td>\n",
              "      <td>0</td>\n",
              "    </tr>\n",
              "    <tr>\n",
              "      <th>4</th>\n",
              "      <td>5</td>\n",
              "      <td>15737888</td>\n",
              "      <td>Mitchell</td>\n",
              "      <td>850</td>\n",
              "      <td>Spain</td>\n",
              "      <td>Female</td>\n",
              "      <td>43</td>\n",
              "      <td>2</td>\n",
              "      <td>125510.82</td>\n",
              "      <td>1</td>\n",
              "      <td>1</td>\n",
              "      <td>1</td>\n",
              "      <td>79084.10</td>\n",
              "      <td>0</td>\n",
              "    </tr>\n",
              "  </tbody>\n",
              "</table>\n",
              "</div>"
            ],
            "text/plain": [
              "   RowNumber  CustomerId   Surname  ...  IsActiveMember EstimatedSalary Exited\n",
              "0          1    15634602  Hargrave  ...               1       101348.88      1\n",
              "1          2    15647311      Hill  ...               1       112542.58      0\n",
              "2          3    15619304      Onio  ...               0       113931.57      1\n",
              "3          4    15701354      Boni  ...               0        93826.63      0\n",
              "4          5    15737888  Mitchell  ...               1        79084.10      0\n",
              "\n",
              "[5 rows x 14 columns]"
            ]
          },
          "metadata": {
            "tags": []
          },
          "execution_count": 9
        }
      ]
    },
    {
      "cell_type": "code",
      "metadata": {
        "id": "fs0vP23pO_3K"
      },
      "source": [
        "# Feature Scaling -  it is very important for the neural networks\n",
        "#all the inputs should be in same range \n",
        "from sklearn.preprocessing import StandardScaler\n",
        "sc = StandardScaler()\n",
        "X_train = sc.fit_transform(X_train)\n",
        "X_test = sc.transform(X_test)"
      ],
      "execution_count": 10,
      "outputs": []
    },
    {
      "cell_type": "code",
      "metadata": {
        "id": "qkDKmpdmPCY6"
      },
      "source": [
        "# Importing the Keras libraries and packages\n",
        "import keras\n",
        "from keras.models import Sequential\n",
        "from keras.layers import Dense\n",
        "from keras.layers import LeakyReLU,PReLU,ELU\n",
        "from keras.layers import Dropout\n"
      ],
      "execution_count": 11,
      "outputs": []
    },
    {
      "cell_type": "code",
      "metadata": {
        "id": "w-ABiy7vPe1y"
      },
      "source": [
        "import tensorflow as tf\n",
        "from tensorflow import keras\n",
        "\n",
        "model = keras.Sequential()\n",
        "\n",
        "model.add(keras.layers.Dense(6, kernel_initializer='he_uniform',activation='relu'))\n",
        "\n",
        "model.add(keras.layers.Dense(6,  kernel_initializer='he_uniform',activation='relu'))\n",
        "\n",
        "model.add(keras.layers.Dense(1,  kernel_initializer='glorot_uniform',activation='sigmoid'))"
      ],
      "execution_count": 17,
      "outputs": []
    },
    {
      "cell_type": "code",
      "metadata": {
        "id": "YaaY83xyP-Ir"
      },
      "source": [
        "model.compile(optimizer = 'Adam', loss = 'binary_crossentropy', metrics = ['accuracy'])\n"
      ],
      "execution_count": 18,
      "outputs": []
    },
    {
      "cell_type": "code",
      "metadata": {
        "colab": {
          "base_uri": "https://localhost:8080/"
        },
        "id": "X6n5-XRUQVWF",
        "outputId": "1f1a24d5-b5fa-4572-d8c7-bed11ce977a2"
      },
      "source": [
        "# Fitting the ANN to the Training set\n",
        "model_history=model.fit(X_train, y_train,validation_split=0.33, batch_size = 10, epochs = 100)\n"
      ],
      "execution_count": 22,
      "outputs": [
        {
          "output_type": "stream",
          "text": [
            "Epoch 1/100\n",
            "536/536 [==============================] - 1s 1ms/step - loss: 0.5521 - accuracy: 0.7548 - val_loss: 0.4656 - val_accuracy: 0.7970\n",
            "Epoch 2/100\n",
            "536/536 [==============================] - 1s 1ms/step - loss: 0.4507 - accuracy: 0.8065 - val_loss: 0.4469 - val_accuracy: 0.7963\n",
            "Epoch 3/100\n",
            "536/536 [==============================] - 1s 1ms/step - loss: 0.4356 - accuracy: 0.8093 - val_loss: 0.4410 - val_accuracy: 0.7997\n",
            "Epoch 4/100\n",
            "536/536 [==============================] - 1s 1ms/step - loss: 0.4277 - accuracy: 0.8093 - val_loss: 0.4371 - val_accuracy: 0.8069\n",
            "Epoch 5/100\n",
            "536/536 [==============================] - 1s 1ms/step - loss: 0.4220 - accuracy: 0.8164 - val_loss: 0.4324 - val_accuracy: 0.8122\n",
            "Epoch 6/100\n",
            "536/536 [==============================] - 1s 1ms/step - loss: 0.4173 - accuracy: 0.8214 - val_loss: 0.4283 - val_accuracy: 0.8137\n",
            "Epoch 7/100\n",
            "536/536 [==============================] - 1s 1ms/step - loss: 0.4135 - accuracy: 0.8261 - val_loss: 0.4251 - val_accuracy: 0.8213\n",
            "Epoch 8/100\n",
            "536/536 [==============================] - 1s 1ms/step - loss: 0.4096 - accuracy: 0.8283 - val_loss: 0.4238 - val_accuracy: 0.8194\n",
            "Epoch 9/100\n",
            "536/536 [==============================] - 1s 1ms/step - loss: 0.4074 - accuracy: 0.8302 - val_loss: 0.4200 - val_accuracy: 0.8236\n",
            "Epoch 10/100\n",
            "536/536 [==============================] - 1s 1ms/step - loss: 0.4042 - accuracy: 0.8328 - val_loss: 0.4179 - val_accuracy: 0.8247\n",
            "Epoch 11/100\n",
            "536/536 [==============================] - 1s 1ms/step - loss: 0.4026 - accuracy: 0.8321 - val_loss: 0.4158 - val_accuracy: 0.8220\n",
            "Epoch 12/100\n",
            "536/536 [==============================] - 1s 1ms/step - loss: 0.4007 - accuracy: 0.8350 - val_loss: 0.4130 - val_accuracy: 0.8281\n",
            "Epoch 13/100\n",
            "536/536 [==============================] - 1s 1ms/step - loss: 0.3987 - accuracy: 0.8343 - val_loss: 0.4105 - val_accuracy: 0.8289\n",
            "Epoch 14/100\n",
            "536/536 [==============================] - 1s 1ms/step - loss: 0.3969 - accuracy: 0.8345 - val_loss: 0.4083 - val_accuracy: 0.8292\n",
            "Epoch 15/100\n",
            "536/536 [==============================] - 1s 1ms/step - loss: 0.3947 - accuracy: 0.8390 - val_loss: 0.4077 - val_accuracy: 0.8289\n",
            "Epoch 16/100\n",
            "536/536 [==============================] - 1s 1ms/step - loss: 0.3927 - accuracy: 0.8384 - val_loss: 0.4039 - val_accuracy: 0.8311\n",
            "Epoch 17/100\n",
            "536/536 [==============================] - 1s 1ms/step - loss: 0.3903 - accuracy: 0.8391 - val_loss: 0.4040 - val_accuracy: 0.8292\n",
            "Epoch 18/100\n",
            "536/536 [==============================] - 1s 1ms/step - loss: 0.3873 - accuracy: 0.8421 - val_loss: 0.3996 - val_accuracy: 0.8334\n",
            "Epoch 19/100\n",
            "536/536 [==============================] - 1s 1ms/step - loss: 0.3843 - accuracy: 0.8419 - val_loss: 0.3949 - val_accuracy: 0.8364\n",
            "Epoch 20/100\n",
            "536/536 [==============================] - 1s 1ms/step - loss: 0.3795 - accuracy: 0.8472 - val_loss: 0.3918 - val_accuracy: 0.8379\n",
            "Epoch 21/100\n",
            "536/536 [==============================] - 1s 1ms/step - loss: 0.3747 - accuracy: 0.8479 - val_loss: 0.3892 - val_accuracy: 0.8379\n",
            "Epoch 22/100\n",
            "536/536 [==============================] - 1s 1ms/step - loss: 0.3698 - accuracy: 0.8511 - val_loss: 0.3825 - val_accuracy: 0.8383\n",
            "Epoch 23/100\n",
            "536/536 [==============================] - 1s 1ms/step - loss: 0.3634 - accuracy: 0.8522 - val_loss: 0.3770 - val_accuracy: 0.8406\n",
            "Epoch 24/100\n",
            "536/536 [==============================] - 1s 1ms/step - loss: 0.3572 - accuracy: 0.8545 - val_loss: 0.3738 - val_accuracy: 0.8421\n",
            "Epoch 25/100\n",
            "536/536 [==============================] - 1s 1ms/step - loss: 0.3522 - accuracy: 0.8578 - val_loss: 0.3676 - val_accuracy: 0.8482\n",
            "Epoch 26/100\n",
            "536/536 [==============================] - 1s 1ms/step - loss: 0.3477 - accuracy: 0.8580 - val_loss: 0.3655 - val_accuracy: 0.8482\n",
            "Epoch 27/100\n",
            "536/536 [==============================] - 1s 1ms/step - loss: 0.3442 - accuracy: 0.8602 - val_loss: 0.3631 - val_accuracy: 0.8519\n",
            "Epoch 28/100\n",
            "536/536 [==============================] - 1s 1ms/step - loss: 0.3413 - accuracy: 0.8625 - val_loss: 0.3619 - val_accuracy: 0.8546\n",
            "Epoch 29/100\n",
            "536/536 [==============================] - 1s 1ms/step - loss: 0.3400 - accuracy: 0.8610 - val_loss: 0.3615 - val_accuracy: 0.8501\n",
            "Epoch 30/100\n",
            "536/536 [==============================] - 1s 1ms/step - loss: 0.3386 - accuracy: 0.8623 - val_loss: 0.3618 - val_accuracy: 0.8523\n",
            "Epoch 31/100\n",
            "536/536 [==============================] - 1s 1ms/step - loss: 0.3376 - accuracy: 0.8602 - val_loss: 0.3581 - val_accuracy: 0.8546\n",
            "Epoch 32/100\n",
            "536/536 [==============================] - 1s 1ms/step - loss: 0.3371 - accuracy: 0.8599 - val_loss: 0.3590 - val_accuracy: 0.8535\n",
            "Epoch 33/100\n",
            "536/536 [==============================] - 1s 1ms/step - loss: 0.3358 - accuracy: 0.8602 - val_loss: 0.3573 - val_accuracy: 0.8554\n",
            "Epoch 34/100\n",
            "536/536 [==============================] - 1s 1ms/step - loss: 0.3365 - accuracy: 0.8599 - val_loss: 0.3583 - val_accuracy: 0.8527\n",
            "Epoch 35/100\n",
            "536/536 [==============================] - 1s 1ms/step - loss: 0.3352 - accuracy: 0.8617 - val_loss: 0.3573 - val_accuracy: 0.8519\n",
            "Epoch 36/100\n",
            "536/536 [==============================] - 1s 1ms/step - loss: 0.3350 - accuracy: 0.8595 - val_loss: 0.3557 - val_accuracy: 0.8523\n",
            "Epoch 37/100\n",
            "536/536 [==============================] - 1s 1ms/step - loss: 0.3346 - accuracy: 0.8630 - val_loss: 0.3558 - val_accuracy: 0.8554\n",
            "Epoch 38/100\n",
            "536/536 [==============================] - 1s 1ms/step - loss: 0.3345 - accuracy: 0.8617 - val_loss: 0.3556 - val_accuracy: 0.8531\n",
            "Epoch 39/100\n",
            "536/536 [==============================] - 1s 1ms/step - loss: 0.3333 - accuracy: 0.8628 - val_loss: 0.3567 - val_accuracy: 0.8538\n",
            "Epoch 40/100\n",
            "536/536 [==============================] - 1s 1ms/step - loss: 0.3338 - accuracy: 0.8610 - val_loss: 0.3559 - val_accuracy: 0.8550\n",
            "Epoch 41/100\n",
            "536/536 [==============================] - 1s 1ms/step - loss: 0.3333 - accuracy: 0.8593 - val_loss: 0.3543 - val_accuracy: 0.8546\n",
            "Epoch 42/100\n",
            "536/536 [==============================] - 1s 1ms/step - loss: 0.3325 - accuracy: 0.8606 - val_loss: 0.3557 - val_accuracy: 0.8554\n",
            "Epoch 43/100\n",
            "536/536 [==============================] - 1s 1ms/step - loss: 0.3322 - accuracy: 0.8621 - val_loss: 0.3534 - val_accuracy: 0.8580\n",
            "Epoch 44/100\n",
            "536/536 [==============================] - 1s 1ms/step - loss: 0.3322 - accuracy: 0.8612 - val_loss: 0.3567 - val_accuracy: 0.8550\n",
            "Epoch 45/100\n",
            "536/536 [==============================] - 1s 1ms/step - loss: 0.3319 - accuracy: 0.8628 - val_loss: 0.3537 - val_accuracy: 0.8576\n",
            "Epoch 46/100\n",
            "536/536 [==============================] - 1s 1ms/step - loss: 0.3315 - accuracy: 0.8614 - val_loss: 0.3529 - val_accuracy: 0.8569\n",
            "Epoch 47/100\n",
            "536/536 [==============================] - 1s 1ms/step - loss: 0.3309 - accuracy: 0.8634 - val_loss: 0.3537 - val_accuracy: 0.8565\n",
            "Epoch 48/100\n",
            "536/536 [==============================] - 1s 1ms/step - loss: 0.3307 - accuracy: 0.8623 - val_loss: 0.3522 - val_accuracy: 0.8573\n",
            "Epoch 49/100\n",
            "536/536 [==============================] - 1s 1ms/step - loss: 0.3308 - accuracy: 0.8606 - val_loss: 0.3525 - val_accuracy: 0.8565\n",
            "Epoch 50/100\n",
            "536/536 [==============================] - 1s 1ms/step - loss: 0.3308 - accuracy: 0.8627 - val_loss: 0.3537 - val_accuracy: 0.8557\n",
            "Epoch 51/100\n",
            "536/536 [==============================] - 1s 1ms/step - loss: 0.3296 - accuracy: 0.8617 - val_loss: 0.3548 - val_accuracy: 0.8573\n",
            "Epoch 52/100\n",
            "536/536 [==============================] - 1s 1ms/step - loss: 0.3296 - accuracy: 0.8625 - val_loss: 0.3525 - val_accuracy: 0.8595\n",
            "Epoch 53/100\n",
            "536/536 [==============================] - 1s 1ms/step - loss: 0.3299 - accuracy: 0.8610 - val_loss: 0.3529 - val_accuracy: 0.8588\n",
            "Epoch 54/100\n",
            "536/536 [==============================] - 1s 1ms/step - loss: 0.3296 - accuracy: 0.8625 - val_loss: 0.3527 - val_accuracy: 0.8591\n",
            "Epoch 55/100\n",
            "536/536 [==============================] - 1s 1ms/step - loss: 0.3292 - accuracy: 0.8593 - val_loss: 0.3518 - val_accuracy: 0.8584\n",
            "Epoch 56/100\n",
            "536/536 [==============================] - 1s 1ms/step - loss: 0.3292 - accuracy: 0.8623 - val_loss: 0.3514 - val_accuracy: 0.8603\n",
            "Epoch 57/100\n",
            "536/536 [==============================] - 1s 1ms/step - loss: 0.3289 - accuracy: 0.8632 - val_loss: 0.3524 - val_accuracy: 0.8599\n",
            "Epoch 58/100\n",
            "536/536 [==============================] - 1s 1ms/step - loss: 0.3289 - accuracy: 0.8617 - val_loss: 0.3525 - val_accuracy: 0.8588\n",
            "Epoch 59/100\n",
            "536/536 [==============================] - 1s 1ms/step - loss: 0.3288 - accuracy: 0.8628 - val_loss: 0.3554 - val_accuracy: 0.8557\n",
            "Epoch 60/100\n",
            "536/536 [==============================] - 1s 1ms/step - loss: 0.3289 - accuracy: 0.8642 - val_loss: 0.3531 - val_accuracy: 0.8569\n",
            "Epoch 61/100\n",
            "536/536 [==============================] - 1s 1ms/step - loss: 0.3283 - accuracy: 0.8614 - val_loss: 0.3514 - val_accuracy: 0.8610\n",
            "Epoch 62/100\n",
            "536/536 [==============================] - 1s 1ms/step - loss: 0.3284 - accuracy: 0.8619 - val_loss: 0.3518 - val_accuracy: 0.8599\n",
            "Epoch 63/100\n",
            "536/536 [==============================] - 1s 1ms/step - loss: 0.3282 - accuracy: 0.8632 - val_loss: 0.3561 - val_accuracy: 0.8542\n",
            "Epoch 64/100\n",
            "536/536 [==============================] - 1s 1ms/step - loss: 0.3280 - accuracy: 0.8627 - val_loss: 0.3511 - val_accuracy: 0.8622\n",
            "Epoch 65/100\n",
            "536/536 [==============================] - 1s 1ms/step - loss: 0.3285 - accuracy: 0.8621 - val_loss: 0.3511 - val_accuracy: 0.8610\n",
            "Epoch 66/100\n",
            "536/536 [==============================] - 1s 1ms/step - loss: 0.3276 - accuracy: 0.8662 - val_loss: 0.3529 - val_accuracy: 0.8588\n",
            "Epoch 67/100\n",
            "536/536 [==============================] - 1s 1ms/step - loss: 0.3283 - accuracy: 0.8621 - val_loss: 0.3515 - val_accuracy: 0.8599\n",
            "Epoch 68/100\n",
            "536/536 [==============================] - 1s 1ms/step - loss: 0.3276 - accuracy: 0.8634 - val_loss: 0.3513 - val_accuracy: 0.8614\n",
            "Epoch 69/100\n",
            "536/536 [==============================] - 1s 1ms/step - loss: 0.3271 - accuracy: 0.8623 - val_loss: 0.3518 - val_accuracy: 0.8595\n",
            "Epoch 70/100\n",
            "536/536 [==============================] - 1s 1ms/step - loss: 0.3274 - accuracy: 0.8625 - val_loss: 0.3514 - val_accuracy: 0.8595\n",
            "Epoch 71/100\n",
            "536/536 [==============================] - 1s 1ms/step - loss: 0.3268 - accuracy: 0.8625 - val_loss: 0.3509 - val_accuracy: 0.8607\n",
            "Epoch 72/100\n",
            "536/536 [==============================] - 1s 1ms/step - loss: 0.3272 - accuracy: 0.8636 - val_loss: 0.3496 - val_accuracy: 0.8610\n",
            "Epoch 73/100\n",
            "536/536 [==============================] - 1s 1ms/step - loss: 0.3274 - accuracy: 0.8647 - val_loss: 0.3504 - val_accuracy: 0.8595\n",
            "Epoch 74/100\n",
            "536/536 [==============================] - 1s 1ms/step - loss: 0.3269 - accuracy: 0.8640 - val_loss: 0.3552 - val_accuracy: 0.8565\n",
            "Epoch 75/100\n",
            "536/536 [==============================] - 1s 1ms/step - loss: 0.3269 - accuracy: 0.8640 - val_loss: 0.3503 - val_accuracy: 0.8626\n",
            "Epoch 76/100\n",
            "536/536 [==============================] - 1s 1ms/step - loss: 0.3263 - accuracy: 0.8621 - val_loss: 0.3514 - val_accuracy: 0.8610\n",
            "Epoch 77/100\n",
            "536/536 [==============================] - 1s 1ms/step - loss: 0.3265 - accuracy: 0.8642 - val_loss: 0.3545 - val_accuracy: 0.8584\n",
            "Epoch 78/100\n",
            "536/536 [==============================] - 1s 1ms/step - loss: 0.3267 - accuracy: 0.8649 - val_loss: 0.3521 - val_accuracy: 0.8588\n",
            "Epoch 79/100\n",
            "536/536 [==============================] - 1s 1ms/step - loss: 0.3264 - accuracy: 0.8656 - val_loss: 0.3505 - val_accuracy: 0.8622\n",
            "Epoch 80/100\n",
            "536/536 [==============================] - 1s 1ms/step - loss: 0.3259 - accuracy: 0.8630 - val_loss: 0.3519 - val_accuracy: 0.8599\n",
            "Epoch 81/100\n",
            "536/536 [==============================] - 1s 1ms/step - loss: 0.3257 - accuracy: 0.8649 - val_loss: 0.3530 - val_accuracy: 0.8580\n",
            "Epoch 82/100\n",
            "536/536 [==============================] - 1s 1ms/step - loss: 0.3259 - accuracy: 0.8642 - val_loss: 0.3503 - val_accuracy: 0.8603\n",
            "Epoch 83/100\n",
            "536/536 [==============================] - 1s 1ms/step - loss: 0.3259 - accuracy: 0.8632 - val_loss: 0.3501 - val_accuracy: 0.8610\n",
            "Epoch 84/100\n",
            "536/536 [==============================] - 1s 1ms/step - loss: 0.3260 - accuracy: 0.8642 - val_loss: 0.3496 - val_accuracy: 0.8622\n",
            "Epoch 85/100\n",
            "536/536 [==============================] - 1s 1ms/step - loss: 0.3256 - accuracy: 0.8651 - val_loss: 0.3528 - val_accuracy: 0.8580\n",
            "Epoch 86/100\n",
            "536/536 [==============================] - 1s 1ms/step - loss: 0.3256 - accuracy: 0.8643 - val_loss: 0.3502 - val_accuracy: 0.8614\n",
            "Epoch 87/100\n",
            "536/536 [==============================] - 1s 1ms/step - loss: 0.3256 - accuracy: 0.8649 - val_loss: 0.3514 - val_accuracy: 0.8607\n",
            "Epoch 88/100\n",
            "536/536 [==============================] - 1s 1ms/step - loss: 0.3251 - accuracy: 0.8636 - val_loss: 0.3502 - val_accuracy: 0.8607\n",
            "Epoch 89/100\n",
            "536/536 [==============================] - 1s 1ms/step - loss: 0.3258 - accuracy: 0.8628 - val_loss: 0.3521 - val_accuracy: 0.8610\n",
            "Epoch 90/100\n",
            "536/536 [==============================] - 1s 1ms/step - loss: 0.3251 - accuracy: 0.8627 - val_loss: 0.3542 - val_accuracy: 0.8576\n",
            "Epoch 91/100\n",
            "536/536 [==============================] - 1s 1ms/step - loss: 0.3253 - accuracy: 0.8628 - val_loss: 0.3520 - val_accuracy: 0.8618\n",
            "Epoch 92/100\n",
            "536/536 [==============================] - 1s 1ms/step - loss: 0.3253 - accuracy: 0.8642 - val_loss: 0.3521 - val_accuracy: 0.8584\n",
            "Epoch 93/100\n",
            "536/536 [==============================] - 1s 1ms/step - loss: 0.3251 - accuracy: 0.8634 - val_loss: 0.3526 - val_accuracy: 0.8569\n",
            "Epoch 94/100\n",
            "536/536 [==============================] - 1s 1ms/step - loss: 0.3251 - accuracy: 0.8649 - val_loss: 0.3527 - val_accuracy: 0.8576\n",
            "Epoch 95/100\n",
            "536/536 [==============================] - 1s 1ms/step - loss: 0.3247 - accuracy: 0.8660 - val_loss: 0.3520 - val_accuracy: 0.8599\n",
            "Epoch 96/100\n",
            "536/536 [==============================] - 1s 1ms/step - loss: 0.3244 - accuracy: 0.8634 - val_loss: 0.3543 - val_accuracy: 0.8591\n",
            "Epoch 97/100\n",
            "536/536 [==============================] - 1s 1ms/step - loss: 0.3252 - accuracy: 0.8656 - val_loss: 0.3511 - val_accuracy: 0.8610\n",
            "Epoch 98/100\n",
            "536/536 [==============================] - 1s 1ms/step - loss: 0.3248 - accuracy: 0.8649 - val_loss: 0.3512 - val_accuracy: 0.8622\n",
            "Epoch 99/100\n",
            "536/536 [==============================] - 1s 1ms/step - loss: 0.3246 - accuracy: 0.8638 - val_loss: 0.3529 - val_accuracy: 0.8607\n",
            "Epoch 100/100\n",
            "536/536 [==============================] - 1s 1ms/step - loss: 0.3236 - accuracy: 0.8660 - val_loss: 0.3569 - val_accuracy: 0.8576\n"
          ],
          "name": "stdout"
        }
      ]
    },
    {
      "cell_type": "code",
      "metadata": {
        "colab": {
          "base_uri": "https://localhost:8080/"
        },
        "id": "PhWQBfB6Q7fA",
        "outputId": "178d521a-1bb5-4192-8c7d-12f7896899c3"
      },
      "source": [
        "# list all data in history\n",
        "print(model_history.history.keys())"
      ],
      "execution_count": 24,
      "outputs": [
        {
          "output_type": "stream",
          "text": [
            "dict_keys(['loss', 'accuracy', 'val_loss', 'val_accuracy'])\n"
          ],
          "name": "stdout"
        }
      ]
    },
    {
      "cell_type": "code",
      "metadata": {
        "colab": {
          "base_uri": "https://localhost:8080/",
          "height": 295
        },
        "id": "Kcdm8Uq8Q7be",
        "outputId": "ec37e989-8f2a-4a18-d14e-74091476a7ff"
      },
      "source": [
        "# summarize history for accuracy\n",
        "plt.plot(model_history.history['accuracy'])\n",
        "plt.plot(model_history.history['val_accuracy'])\n",
        "plt.title('model accuracy')\n",
        "plt.ylabel('accuracy')\n",
        "plt.xlabel('epoch')\n",
        "plt.legend(['train', 'test'], loc='upper left')\n",
        "plt.show()"
      ],
      "execution_count": 29,
      "outputs": [
        {
          "output_type": "display_data",
          "data": {
            "image/png": "[encoded data removed]",
            "text/plain": [
              "<Figure size 432x288 with 1 Axes>"
            ]
          },
          "metadata": {
            "tags": [],
            "needs_background": "light"
          }
        }
      ]
    },
    {
      "cell_type": "code",
      "metadata": {
        "id": "wWiXFTI8Q7YO"
      },
      "source": [
        ""
      ],
      "execution_count": null,
      "outputs": []
    }
  ]
}