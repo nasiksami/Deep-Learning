{
  "nbformat": 4,
  "nbformat_minor": 0,
  "metadata": {
    "colab": {
      "name": "Building Simple Regression model with neural network.ipynb",
      "provenance": [],
      "collapsed_sections": [],
      "authorship_tag": "ABX9TyO0X/a9G11WDGYwJyVET99Y",
      "include_colab_link": true
    },
    "kernelspec": {
      "name": "python3",
      "display_name": "Python 3"
    },
    "accelerator": "GPU"
  },
  "cells": [
    {
      "cell_type": "markdown",
      "metadata": {
        "id": "view-in-github",
        "colab_type": "text"
      },
      "source": [
        "<a href=\"https://colab.research.google.com/github/nasiksami/Deep-Learning/blob/main/Building_Simple_Regression_model_with_neural_network.ipynb\" target=\"_parent\"><img src=\"https://colab.research.google.com/assets/colab-badge.svg\" alt=\"Open In Colab\"/></a>"
      ]
    },
    {
      "cell_type": "code",
      "metadata": {
        "id": "PvaAesvMSyal",
        "outputId": "0dc085d3-4ea2-405a-931a-742ae5069675",
        "colab": {
          "base_uri": "https://localhost:8080/"
        }
      },
      "source": [
        "import tensorflow as tf\n",
        "print(\"Tensorflow version:{}\".format(tf.__version__)  )"
      ],
      "execution_count": 1,
      "outputs": [
        {
          "output_type": "stream",
          "text": [
            "Tensorflow version:2.3.0\n"
          ],
          "name": "stdout"
        }
      ]
    },
    {
      "cell_type": "code",
      "metadata": {
        "id": "v7OyE5_uTRvQ",
        "outputId": "328bd94a-593b-4505-d7d9-e3cc4d6dae13",
        "colab": {
          "base_uri": "https://localhost:8080/"
        }
      },
      "source": [
        "try:\n",
        "    %tensorflow_version 2.x\n",
        "    COLAB = True\n",
        "    print(\"Note: using Google CoLab\")\n",
        "except:\n",
        "    print(\"Note: not using Google CoLab\")\n",
        "    COLAB = False"
      ],
      "execution_count": 2,
      "outputs": [
        {
          "output_type": "stream",
          "text": [
            "Note: using Google CoLab\n"
          ],
          "name": "stdout"
        }
      ]
    },
    {
      "cell_type": "code",
      "metadata": {
        "id": "tLciQkX7X0bi"
      },
      "source": [
        "#Building regression model with tensorflow with MPG dataset"
      ],
      "execution_count": 3,
      "outputs": []
    },
    {
      "cell_type": "code",
      "metadata": {
        "id": "Stnr4g3hYPCS",
        "outputId": "0ddce2c4-140f-44a0-ecbb-ffdf3d6aa2ab",
        "colab": {
          "base_uri": "https://localhost:8080/"
        }
      },
      "source": [
        "!pip install pandas\n",
        "!pip install numpy\n",
        "from tensorflow.keras.models import Sequential\n",
        "from tensorflow.keras.layers import Dense, Activation\n",
        "import pandas as pd\n",
        "import io\n",
        "import os\n",
        "import requests\n",
        "import numpy as np \n",
        "from sklearn import metrics\n",
        "save_path = \".\"\n",
        "\n",
        "df= pd.read_csv(\"https://data.heatonresearch.com/data/t81-558/auto-mpg.csv\", na_values=['NA','?'])\n",
        "cars=df['name']"
      ],
      "execution_count": 4,
      "outputs": [
        {
          "output_type": "stream",
          "text": [
            "Requirement already satisfied: pandas in /usr/local/lib/python3.6/dist-packages (1.1.4)\n",
            "Requirement already satisfied: numpy>=1.15.4 in /usr/local/lib/python3.6/dist-packages (from pandas) (1.18.5)\n",
            "Requirement already satisfied: pytz>=2017.2 in /usr/local/lib/python3.6/dist-packages (from pandas) (2018.9)\n",
            "Requirement already satisfied: python-dateutil>=2.7.3 in /usr/local/lib/python3.6/dist-packages (from pandas) (2.8.1)\n",
            "Requirement already satisfied: six>=1.5 in /usr/local/lib/python3.6/dist-packages (from python-dateutil>=2.7.3->pandas) (1.15.0)\n",
            "Requirement already satisfied: numpy in /usr/local/lib/python3.6/dist-packages (1.18.5)\n"
          ],
          "name": "stdout"
        }
      ]
    },
    {
      "cell_type": "code",
      "metadata": {
        "id": "K8UV7OxmY3GV"
      },
      "source": [
        "#handelling missing values \n",
        "df['horsepower']= df['horsepower'].fillna(df['horsepower'].median())"
      ],
      "execution_count": 5,
      "outputs": []
    },
    {
      "cell_type": "code",
      "metadata": {
        "id": "NJM9VWU6ZcPE"
      },
      "source": [
        "\n",
        "# Pandas to Numpy\n",
        "x = df[['cylinders', 'displacement', 'horsepower', 'weight',\n",
        "       'acceleration', 'year', 'origin']].values\n",
        "y = df['mpg'].values # regression"
      ],
      "execution_count": 6,
      "outputs": []
    },
    {
      "cell_type": "code",
      "metadata": {
        "id": "DpdTiK8dZiZY",
        "outputId": "028b3905-11fd-4bc0-d1d0-0273c5e99068",
        "colab": {
          "base_uri": "https://localhost:8080/"
        }
      },
      "source": [
        "#Building the model\n",
        "model = Sequential()\n",
        "model.add(Dense(25, input_dim=x.shape[1], activation='relu'))\n",
        "model.add(Dense(25, activation='relu'))\n",
        "model.add(Dense(1)) #1 output cause regression problem\n",
        "model.compile(loss='mean_squared_error', optimizer='adam')\n",
        "model.fit(x,y,verbose=2, epochs=250)"
      ],
      "execution_count": 7,
      "outputs": [
        {
          "output_type": "stream",
          "text": [
            "Epoch 1/250\n",
            "13/13 - 0s - loss: 17449.4824\n",
            "Epoch 2/250\n",
            "13/13 - 0s - loss: 4093.5698\n",
            "Epoch 3/250\n",
            "13/13 - 0s - loss: 1056.7719\n",
            "Epoch 4/250\n",
            "13/13 - 0s - loss: 521.3734\n",
            "Epoch 5/250\n",
            "13/13 - 0s - loss: 368.0614\n",
            "Epoch 6/250\n",
            "13/13 - 0s - loss: 363.0166\n",
            "Epoch 7/250\n",
            "13/13 - 0s - loss: 332.0829\n",
            "Epoch 8/250\n",
            "13/13 - 0s - loss: 312.6150\n",
            "Epoch 9/250\n",
            "13/13 - 0s - loss: 295.9709\n",
            "Epoch 10/250\n",
            "13/13 - 0s - loss: 282.4957\n",
            "Epoch 11/250\n",
            "13/13 - 0s - loss: 271.9856\n",
            "Epoch 12/250\n",
            "13/13 - 0s - loss: 257.5658\n",
            "Epoch 13/250\n",
            "13/13 - 0s - loss: 247.9525\n",
            "Epoch 14/250\n",
            "13/13 - 0s - loss: 235.6391\n",
            "Epoch 15/250\n",
            "13/13 - 0s - loss: 227.3831\n",
            "Epoch 16/250\n",
            "13/13 - 0s - loss: 214.2118\n",
            "Epoch 17/250\n",
            "13/13 - 0s - loss: 211.6847\n",
            "Epoch 18/250\n",
            "13/13 - 0s - loss: 198.7725\n",
            "Epoch 19/250\n",
            "13/13 - 0s - loss: 193.3489\n",
            "Epoch 20/250\n",
            "13/13 - 0s - loss: 189.6334\n",
            "Epoch 21/250\n",
            "13/13 - 0s - loss: 174.9529\n",
            "Epoch 22/250\n",
            "13/13 - 0s - loss: 168.6592\n",
            "Epoch 23/250\n",
            "13/13 - 0s - loss: 168.2397\n",
            "Epoch 24/250\n",
            "13/13 - 0s - loss: 162.9225\n",
            "Epoch 25/250\n",
            "13/13 - 0s - loss: 161.2608\n",
            "Epoch 26/250\n",
            "13/13 - 0s - loss: 149.9887\n",
            "Epoch 27/250\n",
            "13/13 - 0s - loss: 145.6684\n",
            "Epoch 28/250\n",
            "13/13 - 0s - loss: 138.4200\n",
            "Epoch 29/250\n",
            "13/13 - 0s - loss: 139.0507\n",
            "Epoch 30/250\n",
            "13/13 - 0s - loss: 129.5674\n",
            "Epoch 31/250\n",
            "13/13 - 0s - loss: 130.5440\n",
            "Epoch 32/250\n",
            "13/13 - 0s - loss: 124.5394\n",
            "Epoch 33/250\n",
            "13/13 - 0s - loss: 121.0613\n",
            "Epoch 34/250\n",
            "13/13 - 0s - loss: 121.3290\n",
            "Epoch 35/250\n",
            "13/13 - 0s - loss: 116.5661\n",
            "Epoch 36/250\n",
            "13/13 - 0s - loss: 119.3525\n",
            "Epoch 37/250\n",
            "13/13 - 0s - loss: 109.4897\n",
            "Epoch 38/250\n",
            "13/13 - 0s - loss: 111.8015\n",
            "Epoch 39/250\n",
            "13/13 - 0s - loss: 105.1000\n",
            "Epoch 40/250\n",
            "13/13 - 0s - loss: 103.2368\n",
            "Epoch 41/250\n",
            "13/13 - 0s - loss: 100.4705\n",
            "Epoch 42/250\n",
            "13/13 - 0s - loss: 96.7238\n",
            "Epoch 43/250\n",
            "13/13 - 0s - loss: 95.9845\n",
            "Epoch 44/250\n",
            "13/13 - 0s - loss: 92.1654\n",
            "Epoch 45/250\n",
            "13/13 - 0s - loss: 89.9317\n",
            "Epoch 46/250\n",
            "13/13 - 0s - loss: 90.8387\n",
            "Epoch 47/250\n",
            "13/13 - 0s - loss: 91.5999\n",
            "Epoch 48/250\n",
            "13/13 - 0s - loss: 90.8346\n",
            "Epoch 49/250\n",
            "13/13 - 0s - loss: 87.0136\n",
            "Epoch 50/250\n",
            "13/13 - 0s - loss: 84.2911\n",
            "Epoch 51/250\n",
            "13/13 - 0s - loss: 85.1519\n",
            "Epoch 52/250\n",
            "13/13 - 0s - loss: 81.1917\n",
            "Epoch 53/250\n",
            "13/13 - 0s - loss: 81.6510\n",
            "Epoch 54/250\n",
            "13/13 - 0s - loss: 77.7671\n",
            "Epoch 55/250\n",
            "13/13 - 0s - loss: 79.8597\n",
            "Epoch 56/250\n",
            "13/13 - 0s - loss: 73.5439\n",
            "Epoch 57/250\n",
            "13/13 - 0s - loss: 77.4725\n",
            "Epoch 58/250\n",
            "13/13 - 0s - loss: 73.9009\n",
            "Epoch 59/250\n",
            "13/13 - 0s - loss: 69.8103\n",
            "Epoch 60/250\n",
            "13/13 - 0s - loss: 71.7328\n",
            "Epoch 61/250\n",
            "13/13 - 0s - loss: 69.6368\n",
            "Epoch 62/250\n",
            "13/13 - 0s - loss: 67.1580\n",
            "Epoch 63/250\n",
            "13/13 - 0s - loss: 64.9563\n",
            "Epoch 64/250\n",
            "13/13 - 0s - loss: 62.0660\n",
            "Epoch 65/250\n",
            "13/13 - 0s - loss: 61.3519\n",
            "Epoch 66/250\n",
            "13/13 - 0s - loss: 60.0901\n",
            "Epoch 67/250\n",
            "13/13 - 0s - loss: 59.8194\n",
            "Epoch 68/250\n",
            "13/13 - 0s - loss: 60.2376\n",
            "Epoch 69/250\n",
            "13/13 - 0s - loss: 60.1549\n",
            "Epoch 70/250\n",
            "13/13 - 0s - loss: 63.1751\n",
            "Epoch 71/250\n",
            "13/13 - 0s - loss: 59.9840\n",
            "Epoch 72/250\n",
            "13/13 - 0s - loss: 54.8769\n",
            "Epoch 73/250\n",
            "13/13 - 0s - loss: 54.5205\n",
            "Epoch 74/250\n",
            "13/13 - 0s - loss: 54.9415\n",
            "Epoch 75/250\n",
            "13/13 - 0s - loss: 52.3483\n",
            "Epoch 76/250\n",
            "13/13 - 0s - loss: 50.1809\n",
            "Epoch 77/250\n",
            "13/13 - 0s - loss: 51.7480\n",
            "Epoch 78/250\n",
            "13/13 - 0s - loss: 48.0710\n",
            "Epoch 79/250\n",
            "13/13 - 0s - loss: 46.1927\n",
            "Epoch 80/250\n",
            "13/13 - 0s - loss: 46.6750\n",
            "Epoch 81/250\n",
            "13/13 - 0s - loss: 45.5236\n",
            "Epoch 82/250\n",
            "13/13 - 0s - loss: 44.2896\n",
            "Epoch 83/250\n",
            "13/13 - 0s - loss: 43.8316\n",
            "Epoch 84/250\n",
            "13/13 - 0s - loss: 42.9590\n",
            "Epoch 85/250\n",
            "13/13 - 0s - loss: 41.4314\n",
            "Epoch 86/250\n",
            "13/13 - 0s - loss: 40.7827\n",
            "Epoch 87/250\n",
            "13/13 - 0s - loss: 39.6744\n",
            "Epoch 88/250\n",
            "13/13 - 0s - loss: 38.5343\n",
            "Epoch 89/250\n",
            "13/13 - 0s - loss: 37.9531\n",
            "Epoch 90/250\n",
            "13/13 - 0s - loss: 37.5030\n",
            "Epoch 91/250\n",
            "13/13 - 0s - loss: 36.3805\n",
            "Epoch 92/250\n",
            "13/13 - 0s - loss: 35.8885\n",
            "Epoch 93/250\n",
            "13/13 - 0s - loss: 35.5045\n",
            "Epoch 94/250\n",
            "13/13 - 0s - loss: 36.0161\n",
            "Epoch 95/250\n",
            "13/13 - 0s - loss: 34.2902\n",
            "Epoch 96/250\n",
            "13/13 - 0s - loss: 33.1779\n",
            "Epoch 97/250\n",
            "13/13 - 0s - loss: 32.0182\n",
            "Epoch 98/250\n",
            "13/13 - 0s - loss: 31.5730\n",
            "Epoch 99/250\n",
            "13/13 - 0s - loss: 31.8558\n",
            "Epoch 100/250\n",
            "13/13 - 0s - loss: 32.3089\n",
            "Epoch 101/250\n",
            "13/13 - 0s - loss: 31.0106\n",
            "Epoch 102/250\n",
            "13/13 - 0s - loss: 29.7735\n",
            "Epoch 103/250\n",
            "13/13 - 0s - loss: 29.8464\n",
            "Epoch 104/250\n",
            "13/13 - 0s - loss: 28.8983\n",
            "Epoch 105/250\n",
            "13/13 - 0s - loss: 28.2412\n",
            "Epoch 106/250\n",
            "13/13 - 0s - loss: 26.8496\n",
            "Epoch 107/250\n",
            "13/13 - 0s - loss: 26.9492\n",
            "Epoch 108/250\n",
            "13/13 - 0s - loss: 25.9663\n",
            "Epoch 109/250\n",
            "13/13 - 0s - loss: 25.7938\n",
            "Epoch 110/250\n",
            "13/13 - 0s - loss: 25.3309\n",
            "Epoch 111/250\n",
            "13/13 - 0s - loss: 24.6883\n",
            "Epoch 112/250\n",
            "13/13 - 0s - loss: 25.9197\n",
            "Epoch 113/250\n",
            "13/13 - 0s - loss: 24.2731\n",
            "Epoch 114/250\n",
            "13/13 - 0s - loss: 23.3374\n",
            "Epoch 115/250\n",
            "13/13 - 0s - loss: 23.1355\n",
            "Epoch 116/250\n",
            "13/13 - 0s - loss: 22.8021\n",
            "Epoch 117/250\n",
            "13/13 - 0s - loss: 22.4678\n",
            "Epoch 118/250\n",
            "13/13 - 0s - loss: 22.0479\n",
            "Epoch 119/250\n",
            "13/13 - 0s - loss: 22.6232\n",
            "Epoch 120/250\n",
            "13/13 - 0s - loss: 20.7998\n",
            "Epoch 121/250\n",
            "13/13 - 0s - loss: 21.9285\n",
            "Epoch 122/250\n",
            "13/13 - 0s - loss: 20.3270\n",
            "Epoch 123/250\n",
            "13/13 - 0s - loss: 20.4936\n",
            "Epoch 124/250\n",
            "13/13 - 0s - loss: 20.2942\n",
            "Epoch 125/250\n",
            "13/13 - 0s - loss: 19.4928\n",
            "Epoch 126/250\n",
            "13/13 - 0s - loss: 20.5633\n",
            "Epoch 127/250\n",
            "13/13 - 0s - loss: 18.7464\n",
            "Epoch 128/250\n",
            "13/13 - 0s - loss: 18.6942\n",
            "Epoch 129/250\n",
            "13/13 - 0s - loss: 18.4839\n",
            "Epoch 130/250\n",
            "13/13 - 0s - loss: 18.6502\n",
            "Epoch 131/250\n",
            "13/13 - 0s - loss: 18.3468\n",
            "Epoch 132/250\n",
            "13/13 - 0s - loss: 17.9052\n",
            "Epoch 133/250\n",
            "13/13 - 0s - loss: 18.9439\n",
            "Epoch 134/250\n",
            "13/13 - 0s - loss: 16.9712\n",
            "Epoch 135/250\n",
            "13/13 - 0s - loss: 17.9953\n",
            "Epoch 136/250\n",
            "13/13 - 0s - loss: 16.7965\n",
            "Epoch 137/250\n",
            "13/13 - 0s - loss: 16.3256\n",
            "Epoch 138/250\n",
            "13/13 - 0s - loss: 16.5341\n",
            "Epoch 139/250\n",
            "13/13 - 0s - loss: 16.4870\n",
            "Epoch 140/250\n",
            "13/13 - 0s - loss: 16.2522\n",
            "Epoch 141/250\n",
            "13/13 - 0s - loss: 15.9511\n",
            "Epoch 142/250\n",
            "13/13 - 0s - loss: 16.5263\n",
            "Epoch 143/250\n",
            "13/13 - 0s - loss: 15.6312\n",
            "Epoch 144/250\n",
            "13/13 - 0s - loss: 15.3664\n",
            "Epoch 145/250\n",
            "13/13 - 0s - loss: 15.1863\n",
            "Epoch 146/250\n",
            "13/13 - 0s - loss: 16.8398\n",
            "Epoch 147/250\n",
            "13/13 - 0s - loss: 18.5203\n",
            "Epoch 148/250\n",
            "13/13 - 0s - loss: 16.0310\n",
            "Epoch 149/250\n",
            "13/13 - 0s - loss: 15.5861\n",
            "Epoch 150/250\n",
            "13/13 - 0s - loss: 14.7679\n",
            "Epoch 151/250\n",
            "13/13 - 0s - loss: 14.8892\n",
            "Epoch 152/250\n",
            "13/13 - 0s - loss: 15.3225\n",
            "Epoch 153/250\n",
            "13/13 - 0s - loss: 14.1547\n",
            "Epoch 154/250\n",
            "13/13 - 0s - loss: 14.0101\n",
            "Epoch 155/250\n",
            "13/13 - 0s - loss: 14.0739\n",
            "Epoch 156/250\n",
            "13/13 - 0s - loss: 13.7183\n",
            "Epoch 157/250\n",
            "13/13 - 0s - loss: 14.2425\n",
            "Epoch 158/250\n",
            "13/13 - 0s - loss: 13.8789\n",
            "Epoch 159/250\n",
            "13/13 - 0s - loss: 14.8654\n",
            "Epoch 160/250\n",
            "13/13 - 0s - loss: 14.2362\n",
            "Epoch 161/250\n",
            "13/13 - 0s - loss: 14.0737\n",
            "Epoch 162/250\n",
            "13/13 - 0s - loss: 13.6088\n",
            "Epoch 163/250\n",
            "13/13 - 0s - loss: 14.2207\n",
            "Epoch 164/250\n",
            "13/13 - 0s - loss: 13.1391\n",
            "Epoch 165/250\n",
            "13/13 - 0s - loss: 13.1670\n",
            "Epoch 166/250\n",
            "13/13 - 0s - loss: 12.8649\n",
            "Epoch 167/250\n",
            "13/13 - 0s - loss: 13.6957\n",
            "Epoch 168/250\n",
            "13/13 - 0s - loss: 13.1741\n",
            "Epoch 169/250\n",
            "13/13 - 0s - loss: 13.0696\n",
            "Epoch 170/250\n",
            "13/13 - 0s - loss: 14.9110\n",
            "Epoch 171/250\n",
            "13/13 - 0s - loss: 12.7678\n",
            "Epoch 172/250\n",
            "13/13 - 0s - loss: 13.4118\n",
            "Epoch 173/250\n",
            "13/13 - 0s - loss: 13.0777\n",
            "Epoch 174/250\n",
            "13/13 - 0s - loss: 12.5222\n",
            "Epoch 175/250\n",
            "13/13 - 0s - loss: 12.7106\n",
            "Epoch 176/250\n",
            "13/13 - 0s - loss: 12.9071\n",
            "Epoch 177/250\n",
            "13/13 - 0s - loss: 13.2118\n",
            "Epoch 178/250\n",
            "13/13 - 0s - loss: 13.0997\n",
            "Epoch 179/250\n",
            "13/13 - 0s - loss: 13.0810\n",
            "Epoch 180/250\n",
            "13/13 - 0s - loss: 12.7991\n",
            "Epoch 181/250\n",
            "13/13 - 0s - loss: 12.5740\n",
            "Epoch 182/250\n",
            "13/13 - 0s - loss: 13.2106\n",
            "Epoch 183/250\n",
            "13/13 - 0s - loss: 13.1400\n",
            "Epoch 184/250\n",
            "13/13 - 0s - loss: 12.6613\n",
            "Epoch 185/250\n",
            "13/13 - 0s - loss: 12.0277\n",
            "Epoch 186/250\n",
            "13/13 - 0s - loss: 12.8231\n",
            "Epoch 187/250\n",
            "13/13 - 0s - loss: 13.0464\n",
            "Epoch 188/250\n",
            "13/13 - 0s - loss: 12.4542\n",
            "Epoch 189/250\n",
            "13/13 - 0s - loss: 12.1419\n",
            "Epoch 190/250\n",
            "13/13 - 0s - loss: 12.2597\n",
            "Epoch 191/250\n",
            "13/13 - 0s - loss: 13.3840\n",
            "Epoch 192/250\n",
            "13/13 - 0s - loss: 12.5500\n",
            "Epoch 193/250\n",
            "13/13 - 0s - loss: 12.1255\n",
            "Epoch 194/250\n",
            "13/13 - 0s - loss: 11.7651\n",
            "Epoch 195/250\n",
            "13/13 - 0s - loss: 11.7389\n",
            "Epoch 196/250\n",
            "13/13 - 0s - loss: 14.6273\n",
            "Epoch 197/250\n",
            "13/13 - 0s - loss: 14.3726\n",
            "Epoch 198/250\n",
            "13/13 - 0s - loss: 15.9151\n",
            "Epoch 199/250\n",
            "13/13 - 0s - loss: 12.6530\n",
            "Epoch 200/250\n",
            "13/13 - 0s - loss: 13.0135\n",
            "Epoch 201/250\n",
            "13/13 - 0s - loss: 11.7527\n",
            "Epoch 202/250\n",
            "13/13 - 0s - loss: 12.3748\n",
            "Epoch 203/250\n",
            "13/13 - 0s - loss: 12.9393\n",
            "Epoch 204/250\n",
            "13/13 - 0s - loss: 13.2919\n",
            "Epoch 205/250\n",
            "13/13 - 0s - loss: 14.0005\n",
            "Epoch 206/250\n",
            "13/13 - 0s - loss: 13.5681\n",
            "Epoch 207/250\n",
            "13/13 - 0s - loss: 13.9976\n",
            "Epoch 208/250\n",
            "13/13 - 0s - loss: 12.5454\n",
            "Epoch 209/250\n",
            "13/13 - 0s - loss: 12.1610\n",
            "Epoch 210/250\n",
            "13/13 - 0s - loss: 11.7320\n",
            "Epoch 211/250\n",
            "13/13 - 0s - loss: 12.0929\n",
            "Epoch 212/250\n",
            "13/13 - 0s - loss: 11.9221\n",
            "Epoch 213/250\n",
            "13/13 - 0s - loss: 11.8600\n",
            "Epoch 214/250\n",
            "13/13 - 0s - loss: 12.4700\n",
            "Epoch 215/250\n",
            "13/13 - 0s - loss: 12.3827\n",
            "Epoch 216/250\n",
            "13/13 - 0s - loss: 16.3882\n",
            "Epoch 217/250\n",
            "13/13 - 0s - loss: 13.2475\n",
            "Epoch 218/250\n",
            "13/13 - 0s - loss: 11.5735\n",
            "Epoch 219/250\n",
            "13/13 - 0s - loss: 11.5089\n",
            "Epoch 220/250\n",
            "13/13 - 0s - loss: 12.6332\n",
            "Epoch 221/250\n",
            "13/13 - 0s - loss: 16.6925\n",
            "Epoch 222/250\n",
            "13/13 - 0s - loss: 16.1036\n",
            "Epoch 223/250\n",
            "13/13 - 0s - loss: 12.2484\n",
            "Epoch 224/250\n",
            "13/13 - 0s - loss: 12.9986\n",
            "Epoch 225/250\n",
            "13/13 - 0s - loss: 11.6305\n",
            "Epoch 226/250\n",
            "13/13 - 0s - loss: 13.7020\n",
            "Epoch 227/250\n",
            "13/13 - 0s - loss: 12.9091\n",
            "Epoch 228/250\n",
            "13/13 - 0s - loss: 12.7381\n",
            "Epoch 229/250\n",
            "13/13 - 0s - loss: 13.7157\n",
            "Epoch 230/250\n",
            "13/13 - 0s - loss: 12.3001\n",
            "Epoch 231/250\n",
            "13/13 - 0s - loss: 11.8490\n",
            "Epoch 232/250\n",
            "13/13 - 0s - loss: 12.6375\n",
            "Epoch 233/250\n",
            "13/13 - 0s - loss: 13.0706\n",
            "Epoch 234/250\n",
            "13/13 - 0s - loss: 12.8928\n",
            "Epoch 235/250\n",
            "13/13 - 0s - loss: 11.5125\n",
            "Epoch 236/250\n",
            "13/13 - 0s - loss: 11.4551\n",
            "Epoch 237/250\n",
            "13/13 - 0s - loss: 11.9579\n",
            "Epoch 238/250\n",
            "13/13 - 0s - loss: 12.3383\n",
            "Epoch 239/250\n",
            "13/13 - 0s - loss: 11.5080\n",
            "Epoch 240/250\n",
            "13/13 - 0s - loss: 13.2996\n",
            "Epoch 241/250\n",
            "13/13 - 0s - loss: 13.0841\n",
            "Epoch 242/250\n",
            "13/13 - 0s - loss: 11.9710\n",
            "Epoch 243/250\n",
            "13/13 - 0s - loss: 11.8097\n",
            "Epoch 244/250\n",
            "13/13 - 0s - loss: 11.7845\n",
            "Epoch 245/250\n",
            "13/13 - 0s - loss: 12.5277\n",
            "Epoch 246/250\n",
            "13/13 - 0s - loss: 12.1713\n",
            "Epoch 247/250\n",
            "13/13 - 0s - loss: 11.6225\n",
            "Epoch 248/250\n",
            "13/13 - 0s - loss: 12.1388\n",
            "Epoch 249/250\n",
            "13/13 - 0s - loss: 12.7262\n",
            "Epoch 250/250\n",
            "13/13 - 0s - loss: 12.9426\n"
          ],
          "name": "stdout"
        },
        {
          "output_type": "execute_result",
          "data": {
            "text/plain": [
              "<tensorflow.python.keras.callbacks.History at 0x7ff9707887f0>"
            ]
          },
          "metadata": {
            "tags": []
          },
          "execution_count": 7
        }
      ]
    },
    {
      "cell_type": "markdown",
      "metadata": {
        "id": "254cLjhzbR0n"
      },
      "source": [
        "Controlling the Amount of Output\n",
        "The program produces one line of output for each training epoch. You can eliminate this output by setting the verbose setting of the fit command:\n",
        "\n",
        "verbose=0 - No progress output (use with Jupyter if you do not want output)\n",
        "\n",
        "verbose=1 - Display progress bar, does not work well with Jupyter\n",
        "\n",
        "verbose=2 - Summary progress output (use with Jupyter if you want to know the loss at each epoch)"
      ]
    },
    {
      "cell_type": "code",
      "metadata": {
        "id": "kcmnxE-waTaQ",
        "outputId": "1aa43ce4-9579-4bce-e184-eaf93e56cc2c",
        "colab": {
          "base_uri": "https://localhost:8080/"
        }
      },
      "source": [
        "pred = model.predict(x)\n",
        "print(f\"Shape:{pred.shape}\")\n",
        "print (pred[0:10])"
      ],
      "execution_count": 8,
      "outputs": [
        {
          "output_type": "stream",
          "text": [
            "Shape:(398, 1)\n",
            "[[17.589676]\n",
            " [17.13583 ]\n",
            " [18.050262]\n",
            " [17.989239]\n",
            " [17.300049]\n",
            " [13.81074 ]\n",
            " [14.060046]\n",
            " [13.793178]\n",
            " [13.864345]\n",
            " [15.987365]]\n"
          ],
          "name": "stdout"
        }
      ]
    },
    {
      "cell_type": "code",
      "metadata": {
        "id": "kcdiga7eb2dq",
        "outputId": "18c87286-a35c-4e2f-8fda-8270a61cb92c",
        "colab": {
          "base_uri": "https://localhost:8080/"
        }
      },
      "source": [
        "#Measure RMSE error. RMSE is common for regression\n",
        "score = np.sqrt(metrics.mean_squared_error(pred,y))\n",
        "print(f\"Final score (RMSE): {score}\")"
      ],
      "execution_count": 9,
      "outputs": [
        {
          "output_type": "stream",
          "text": [
            "Final score (RMSE): 3.381883988188318\n"
          ],
          "name": "stdout"
        }
      ]
    },
    {
      "cell_type": "markdown",
      "metadata": {
        "id": "EBi-HGoxoabJ"
      },
      "source": [
        "**Lets try to save the model into different file formats**"
      ]
    },
    {
      "cell_type": "markdown",
      "metadata": {
        "id": "U-xsaz2EooId"
      },
      "source": [
        "YAML - Stores the neural network structure (no weights) in the YAML file format.\n",
        "\n",
        "JSON - Stores the neural network structure (no weights) in the JSON file format.\n",
        "\n",
        "HDF5 - Stores the complete neural network (with weights) in the HDF5 file format. Do not confuse HDF5 with HDFS. They are different. We do not use HDFS in this class."
      ]
    },
    {
      "cell_type": "code",
      "metadata": {
        "id": "NH2q2NvEo2V5"
      },
      "source": [
        "# Predict\n",
        "pred = model.predict(x)"
      ],
      "execution_count": 10,
      "outputs": []
    },
    {
      "cell_type": "code",
      "metadata": {
        "id": "DcsH567opMyX",
        "outputId": "87f2acdb-a382-4484-c6f5-11907c8edd1e",
        "colab": {
          "base_uri": "https://localhost:8080/"
        }
      },
      "source": [
        "# Measure RMSE error.  RMSE is common for regression.\n",
        "score = np.sqrt(metrics.mean_squared_error(pred,y))\n",
        "print(f\"Before save score (RMSE): {score}\")"
      ],
      "execution_count": 11,
      "outputs": [
        {
          "output_type": "stream",
          "text": [
            "Before save score (RMSE): 3.381883988188318\n"
          ],
          "name": "stdout"
        }
      ]
    },
    {
      "cell_type": "code",
      "metadata": {
        "id": "3-ilaZeEpP8C"
      },
      "source": [
        "# save neural network structure to JSON (no weights)\n",
        "model_json = model.to_json()\n",
        "with open(os.path.join(save_path,\"network.json\"), \"w\") as json_file:\n",
        "    json_file.write(model_json)"
      ],
      "execution_count": 12,
      "outputs": []
    },
    {
      "cell_type": "code",
      "metadata": {
        "id": "uThCPFjzpaJ6"
      },
      "source": [
        "# save neural network structure to YAML (no weights)\n",
        "model_yaml = model.to_yaml()\n",
        "with open(os.path.join(save_path,\"network.yaml\"), \"w\") as yaml_file:\n",
        "    yaml_file.write(model_yaml)"
      ],
      "execution_count": 13,
      "outputs": []
    },
    {
      "cell_type": "code",
      "metadata": {
        "id": "dYUlDKUEpclp"
      },
      "source": [
        "# save entire network to HDF5 (save everything, suggested)\n",
        "model.save(os.path.join(save_path,\"network.h5\"))"
      ],
      "execution_count": 14,
      "outputs": []
    },
    {
      "cell_type": "code",
      "metadata": {
        "id": "-Ww4EZSupe3Q",
        "outputId": "460b6ec0-dbec-4d60-84be-455cf8f1c943",
        "colab": {
          "base_uri": "https://localhost:8080/"
        }
      },
      "source": [
        "\n",
        "from tensorflow.keras.models import load_model\n",
        "model = load_model(os.path.join(save_path,\"network.h5\"))\n",
        "pred = model.predict(x)\n",
        "# Measure RMSE error.  RMSE is common for regression.\n",
        "score = np.sqrt(metrics.mean_squared_error(pred,y))\n",
        "print(f\"After load score (RMSE): {score}\")"
      ],
      "execution_count": 15,
      "outputs": [
        {
          "output_type": "stream",
          "text": [
            "After load score (RMSE): 3.381883988188318\n"
          ],
          "name": "stdout"
        }
      ]
    },
    {
      "cell_type": "code",
      "metadata": {
        "id": "8kBdVpc3pp1R",
        "outputId": "9fea938e-9a2f-48f9-c58b-6bc97af93857",
        "colab": {
          "base_uri": "https://localhost:8080/"
        }
      },
      "source": [
        "for i in range(20):\n",
        "  print (f\"{i+1}. Car name: {cars[i]}, MPG: {y[i]}, + predicted MPG: {pred[i]}\")\n"
      ],
      "execution_count": 16,
      "outputs": [
        {
          "output_type": "stream",
          "text": [
            "1. Car name: chevrolet chevelle malibu, MPG: 18.0, + predicted MPG: [17.589676]\n",
            "2. Car name: buick skylark 320, MPG: 15.0, + predicted MPG: [17.13583]\n",
            "3. Car name: plymouth satellite, MPG: 18.0, + predicted MPG: [18.050262]\n",
            "4. Car name: amc rebel sst, MPG: 16.0, + predicted MPG: [17.989239]\n",
            "5. Car name: ford torino, MPG: 17.0, + predicted MPG: [17.300049]\n",
            "6. Car name: ford galaxie 500, MPG: 15.0, + predicted MPG: [13.81074]\n",
            "7. Car name: chevrolet impala, MPG: 14.0, + predicted MPG: [14.060046]\n",
            "8. Car name: plymouth fury iii, MPG: 14.0, + predicted MPG: [13.793178]\n",
            "9. Car name: pontiac catalina, MPG: 14.0, + predicted MPG: [13.864345]\n",
            "10. Car name: amc ambassador dpl, MPG: 15.0, + predicted MPG: [15.987365]\n",
            "11. Car name: dodge challenger se, MPG: 15.0, + predicted MPG: [18.659203]\n",
            "12. Car name: plymouth 'cuda 340, MPG: 14.0, + predicted MPG: [16.260693]\n",
            "13. Car name: chevrolet monte carlo, MPG: 15.0, + predicted MPG: [17.510967]\n",
            "14. Car name: buick estate wagon (sw), MPG: 14.0, + predicted MPG: [14.931815]\n",
            "15. Car name: toyota corona mark ii, MPG: 24.0, + predicted MPG: [25.43379]\n",
            "16. Car name: plymouth duster, MPG: 22.0, + predicted MPG: [20.616184]\n",
            "17. Car name: amc hornet, MPG: 18.0, + predicted MPG: [21.110638]\n",
            "18. Car name: ford maverick, MPG: 21.0, + predicted MPG: [22.852947]\n",
            "19. Car name: datsun pl510, MPG: 27.0, + predicted MPG: [27.141205]\n",
            "20. Car name: volkswagen 1131 deluxe sedan, MPG: 26.0, + predicted MPG: [30.891518]\n"
          ],
          "name": "stdout"
        }
      ]
    }
  ]
}