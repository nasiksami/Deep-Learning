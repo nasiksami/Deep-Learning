{
 "cells": [
  {
   "cell_type": "code",
   "execution_count": 3,
   "metadata": {
    "scrolled": true
   },
   "outputs": [
    {
     "name": "stdout",
     "output_type": "stream",
     "text": [
      "Requirement already satisfied: opencv_contrib_python in c:\\users\\nasik\\anaconda3\\lib\\site-packages (4.4.0.46)\n",
      "Requirement already satisfied: numpy>=1.17.3 in c:\\users\\nasik\\anaconda3\\lib\\site-packages (from opencv_contrib_python) (1.18.5)\n",
      "Requirement already satisfied: numpy in c:\\users\\nasik\\anaconda3\\lib\\site-packages (1.18.5)\n"
     ]
    }
   ],
   "source": [
    "!pip install opencv_contrib_python\n",
    "!pip install numpy"
   ]
  },
  {
   "cell_type": "code",
   "execution_count": null,
   "metadata": {},
   "outputs": [
    {
     "name": "stdout",
     "output_type": "stream",
     "text": [
      "loading models.....\n"
     ]
    }
   ],
   "source": [
    "#download the models from the link below and save them in the models folder.\n",
    "#download the black and white pictures in the folder. In my case the name of folder is is old\n",
    "#https://eecs.berkeley.edu/~rich.zhang...\n",
    "#https://github.com/richzhang/colorization/blob/caffe/models/colorization_deploy_v2.prototxt\n",
    "#https://github.com/HemantKArya/BW2Color/blob/master/model/pts_in_hull.npy\n",
    "\n",
    "import numpy as np \n",
    "import cv2\n",
    "\n",
    "print(\"loading models.....\")\n",
    "net = cv2.dnn.readNetFromCaffe('C:/Users/Nasik/Desktop/bnw_to_col/models/colorization_deploy_v2.prototxt','C:/Users/Nasik/Desktop/bnw_to_col/models/colorization_release_v2.caffemodel')\n",
    "pts = np.load('C:/Users/Nasik/Desktop/bnw_to_col/models/pts_in_hull.npy')\n",
    "\n",
    "\n",
    "class8 = net.getLayerId(\"class8_ab\")\n",
    "conv8 = net.getLayerId(\"conv8_313_rh\")\n",
    "pts = pts.transpose().reshape(2,313,1,1)\n",
    "\n",
    "net.getLayer(class8).blobs = [pts.astype(\"float32\")]\n",
    "net.getLayer(conv8).blobs = [np.full([1,313],2.606,dtype='float32')]\n",
    "\n",
    "\n",
    "image = cv2.imread('C:/Users/Nasik/Desktop/bnw_to_col/old/Image0115.jpg')\n",
    "scaled = image.astype(\"float32\")/255.0\n",
    "lab = cv2.cvtColor(scaled,cv2.COLOR_BGR2LAB)\n",
    "\n",
    "\n",
    "resized = cv2.resize(lab,(224,224))\n",
    "L = cv2.split(resized)[0]\n",
    "L -= 50\n",
    "\n",
    "\n",
    "net.setInput(cv2.dnn.blobFromImage(L))\n",
    "ab = net.forward()[0, :, :, :].transpose((1,2,0))\n",
    "\n",
    "ab = cv2.resize(ab, (image.shape[1],image.shape[0]))\n",
    "\n",
    "L = cv2.split(lab)[0]\n",
    "colorized = np.concatenate((L[:,:,np.newaxis], ab), axis=2)\n",
    "\n",
    "colorized = cv2.cvtColor(colorized,cv2.COLOR_LAB2BGR)\n",
    "colorized = np.clip(colorized,0,1)\n",
    "\n",
    "colorized = (255 * colorized).astype(\"uint8\")\n",
    "\n",
    "cv2.imshow(\"Original\",image)\n",
    "cv2.imshow(\"Colorized\",colorized)\n",
    "\n",
    "cv2.waitKey(0)"
   ]
  },
  {
   "cell_type": "code",
   "execution_count": null,
   "metadata": {},
   "outputs": [],
   "source": []
  }
 ],
 "metadata": {
  "kernelspec": {
   "display_name": "Python 3",
   "language": "python",
   "name": "python3"
  },
  "language_info": {
   "codemirror_mode": {
    "name": "ipython",
    "version": 3
   },
   "file_extension": ".py",
   "mimetype": "text/x-python",
   "name": "python",
   "nbconvert_exporter": "python",
   "pygments_lexer": "ipython3",
   "version": "3.8.3"
  }
 },
 "nbformat": 4,
 "nbformat_minor": 4
}
