{
  "nbformat": 4,
  "nbformat_minor": 0,
  "metadata": {
    "colab": {
      "name": "Simple deep neural network classifier with tensorflow.ipynb",
      "provenance": [],
      "authorship_tag": "ABX9TyMNZt+FDnXDh3xDU50JjoJD",
      "include_colab_link": true
    },
    "kernelspec": {
      "name": "python3",
      "display_name": "Python 3"
    },
    "accelerator": "GPU"
  },
  "cells": [
    {
      "cell_type": "markdown",
      "metadata": {
        "id": "view-in-github",
        "colab_type": "text"
      },
      "source": [
        "<a href=\"https://colab.research.google.com/github/nasiksami/Deep-Learning/blob/main/Simple_deep_neural_network_classifier_with_tensorflow.ipynb\" target=\"_parent\"><img src=\"https://colab.research.google.com/assets/colab-badge.svg\" alt=\"Open In Colab\"/></a>"
      ]
    },
    {
      "cell_type": "code",
      "metadata": {
        "id": "88XtxPINteQi",
        "outputId": "5112f8be-9206-448f-c595-639ca58bc54b",
        "colab": {
          "base_uri": "https://localhost:8080/"
        }
      },
      "source": [
        "%tensorflow_version 2.x\n",
        "import tensorflow as tf\n",
        "print (tf.version)\n",
        "\n"
      ],
      "execution_count": null,
      "outputs": [
        {
          "output_type": "stream",
          "text": [
            "<module 'tensorflow._api.v2.version' from '/usr/local/lib/python3.6/dist-packages/tensorflow/_api/v2/version/__init__.py'>\n"
          ],
          "name": "stdout"
        }
      ]
    },
    {
      "cell_type": "code",
      "metadata": {
        "id": "FYj27ovpgg_-"
      },
      "source": [
        "CSV_COLUMN_NAMES = ['SepalLength', 'SepalWidth', 'PetalLength', 'PetalWidth', 'Species']\n",
        "SPECIES = ['Setosa', 'Versicolor', 'Virginica']\n",
        "# Lets define some constants to help us later on"
      ],
      "execution_count": null,
      "outputs": []
    },
    {
      "cell_type": "code",
      "metadata": {
        "id": "w37fdSlpghGT"
      },
      "source": [
        "train_path = tf.keras.utils.get_file(\n",
        "    \"iris_training.csv\", \"https://storage.googleapis.com/download.tensorflow.org/data/iris_training.csv\")\n",
        "test_path = tf.keras.utils.get_file(\n",
        "    \"iris_test.csv\", \"https://storage.googleapis.com/download.tensorflow.org/data/iris_test.csv\")\n",
        "\n",
        "train = pd.read_csv(train_path, names=CSV_COLUMN_NAMES, header=0)\n",
        "test = pd.read_csv(test_path, names=CSV_COLUMN_NAMES, header=0)\n",
        "# Here we use keras (a module inside of TensorFlow) to grab our datasets and read them into a pandas dataframe"
      ],
      "execution_count": null,
      "outputs": []
    },
    {
      "cell_type": "code",
      "metadata": {
        "id": "BQApNljFykWO",
        "outputId": "400f9440-dbbd-45c5-9345-76b27cc6b047",
        "colab": {
          "base_uri": "https://localhost:8080/",
          "height": 204
        }
      },
      "source": [
        "train.head()"
      ],
      "execution_count": null,
      "outputs": [
        {
          "output_type": "execute_result",
          "data": {
            "text/html": [
              "<div>\n",
              "<style scoped>\n",
              "    .dataframe tbody tr th:only-of-type {\n",
              "        vertical-align: middle;\n",
              "    }\n",
              "\n",
              "    .dataframe tbody tr th {\n",
              "        vertical-align: top;\n",
              "    }\n",
              "\n",
              "    .dataframe thead th {\n",
              "        text-align: right;\n",
              "    }\n",
              "</style>\n",
              "<table border=\"1\" class=\"dataframe\">\n",
              "  <thead>\n",
              "    <tr style=\"text-align: right;\">\n",
              "      <th></th>\n",
              "      <th>SepalLength</th>\n",
              "      <th>SepalWidth</th>\n",
              "      <th>PetalLength</th>\n",
              "      <th>PetalWidth</th>\n",
              "      <th>Species</th>\n",
              "    </tr>\n",
              "  </thead>\n",
              "  <tbody>\n",
              "    <tr>\n",
              "      <th>0</th>\n",
              "      <td>6.4</td>\n",
              "      <td>2.8</td>\n",
              "      <td>5.6</td>\n",
              "      <td>2.2</td>\n",
              "      <td>2</td>\n",
              "    </tr>\n",
              "    <tr>\n",
              "      <th>1</th>\n",
              "      <td>5.0</td>\n",
              "      <td>2.3</td>\n",
              "      <td>3.3</td>\n",
              "      <td>1.0</td>\n",
              "      <td>1</td>\n",
              "    </tr>\n",
              "    <tr>\n",
              "      <th>2</th>\n",
              "      <td>4.9</td>\n",
              "      <td>2.5</td>\n",
              "      <td>4.5</td>\n",
              "      <td>1.7</td>\n",
              "      <td>2</td>\n",
              "    </tr>\n",
              "    <tr>\n",
              "      <th>3</th>\n",
              "      <td>4.9</td>\n",
              "      <td>3.1</td>\n",
              "      <td>1.5</td>\n",
              "      <td>0.1</td>\n",
              "      <td>0</td>\n",
              "    </tr>\n",
              "    <tr>\n",
              "      <th>4</th>\n",
              "      <td>5.7</td>\n",
              "      <td>3.8</td>\n",
              "      <td>1.7</td>\n",
              "      <td>0.3</td>\n",
              "      <td>0</td>\n",
              "    </tr>\n",
              "  </tbody>\n",
              "</table>\n",
              "</div>"
            ],
            "text/plain": [
              "   SepalLength  SepalWidth  PetalLength  PetalWidth  Species\n",
              "0          6.4         2.8          5.6         2.2        2\n",
              "1          5.0         2.3          3.3         1.0        1\n",
              "2          4.9         2.5          4.5         1.7        2\n",
              "3          4.9         3.1          1.5         0.1        0\n",
              "4          5.7         3.8          1.7         0.3        0"
            ]
          },
          "metadata": {
            "tags": []
          },
          "execution_count": 207
        }
      ]
    },
    {
      "cell_type": "code",
      "metadata": {
        "id": "m_o81MagykUX",
        "outputId": "0019a3c3-5866-4b94-bccc-b33a8bde3ca3",
        "colab": {
          "base_uri": "https://localhost:8080/",
          "height": 204
        }
      },
      "source": [
        "train_y = train.pop('Species')\n",
        "test_y = test.pop('Species')\n",
        "train.head() # the species column is now gone"
      ],
      "execution_count": null,
      "outputs": [
        {
          "output_type": "execute_result",
          "data": {
            "text/html": [
              "<div>\n",
              "<style scoped>\n",
              "    .dataframe tbody tr th:only-of-type {\n",
              "        vertical-align: middle;\n",
              "    }\n",
              "\n",
              "    .dataframe tbody tr th {\n",
              "        vertical-align: top;\n",
              "    }\n",
              "\n",
              "    .dataframe thead th {\n",
              "        text-align: right;\n",
              "    }\n",
              "</style>\n",
              "<table border=\"1\" class=\"dataframe\">\n",
              "  <thead>\n",
              "    <tr style=\"text-align: right;\">\n",
              "      <th></th>\n",
              "      <th>SepalLength</th>\n",
              "      <th>SepalWidth</th>\n",
              "      <th>PetalLength</th>\n",
              "      <th>PetalWidth</th>\n",
              "    </tr>\n",
              "  </thead>\n",
              "  <tbody>\n",
              "    <tr>\n",
              "      <th>0</th>\n",
              "      <td>6.4</td>\n",
              "      <td>2.8</td>\n",
              "      <td>5.6</td>\n",
              "      <td>2.2</td>\n",
              "    </tr>\n",
              "    <tr>\n",
              "      <th>1</th>\n",
              "      <td>5.0</td>\n",
              "      <td>2.3</td>\n",
              "      <td>3.3</td>\n",
              "      <td>1.0</td>\n",
              "    </tr>\n",
              "    <tr>\n",
              "      <th>2</th>\n",
              "      <td>4.9</td>\n",
              "      <td>2.5</td>\n",
              "      <td>4.5</td>\n",
              "      <td>1.7</td>\n",
              "    </tr>\n",
              "    <tr>\n",
              "      <th>3</th>\n",
              "      <td>4.9</td>\n",
              "      <td>3.1</td>\n",
              "      <td>1.5</td>\n",
              "      <td>0.1</td>\n",
              "    </tr>\n",
              "    <tr>\n",
              "      <th>4</th>\n",
              "      <td>5.7</td>\n",
              "      <td>3.8</td>\n",
              "      <td>1.7</td>\n",
              "      <td>0.3</td>\n",
              "    </tr>\n",
              "  </tbody>\n",
              "</table>\n",
              "</div>"
            ],
            "text/plain": [
              "   SepalLength  SepalWidth  PetalLength  PetalWidth\n",
              "0          6.4         2.8          5.6         2.2\n",
              "1          5.0         2.3          3.3         1.0\n",
              "2          4.9         2.5          4.5         1.7\n",
              "3          4.9         3.1          1.5         0.1\n",
              "4          5.7         3.8          1.7         0.3"
            ]
          },
          "metadata": {
            "tags": []
          },
          "execution_count": 208
        }
      ]
    },
    {
      "cell_type": "code",
      "metadata": {
        "id": "kQIu0b9wykJ6",
        "outputId": "84970fde-6aea-4aee-feac-621b0af54ff2",
        "colab": {
          "base_uri": "https://localhost:8080/"
        }
      },
      "source": [
        "train.shape"
      ],
      "execution_count": null,
      "outputs": [
        {
          "output_type": "execute_result",
          "data": {
            "text/plain": [
              "(120, 4)"
            ]
          },
          "metadata": {
            "tags": []
          },
          "execution_count": 209
        }
      ]
    },
    {
      "cell_type": "code",
      "metadata": {
        "id": "LJGezNEhyjwv"
      },
      "source": [
        "#input_function\n",
        "def input_fn(features, labels, training=True, batch_size=256):\n",
        "    # Convert the inputs to a Dataset.\n",
        "    dataset = tf.data.Dataset.from_tensor_slices((dict(features), labels))\n",
        "\n",
        "    # Shuffle and repeat if you are in training mode.\n",
        "    if training:\n",
        "        dataset = dataset.shuffle(1000).repeat()\n",
        "    \n",
        "    return dataset.batch(batch_size)"
      ],
      "execution_count": null,
      "outputs": []
    },
    {
      "cell_type": "code",
      "metadata": {
        "id": "lZM1BZVeyjqo",
        "outputId": "28f34549-5b9d-4f18-a12b-56e380ff8396",
        "colab": {
          "base_uri": "https://localhost:8080/"
        }
      },
      "source": [
        "# Feature columns describe how to use the input.\n",
        "#train.keys will give all the numeric columns in from the training dataset\n",
        "my_feature_columns = []\n",
        "for key in train.keys():\n",
        "    my_feature_columns.append(tf.feature_column.numeric_column(key=key))\n",
        "print(my_feature_columns)"
      ],
      "execution_count": null,
      "outputs": [
        {
          "output_type": "stream",
          "text": [
            "[NumericColumn(key='SepalLength', shape=(1,), default_value=None, dtype=tf.float32, normalizer_fn=None), NumericColumn(key='SepalWidth', shape=(1,), default_value=None, dtype=tf.float32, normalizer_fn=None), NumericColumn(key='PetalLength', shape=(1,), default_value=None, dtype=tf.float32, normalizer_fn=None), NumericColumn(key='PetalWidth', shape=(1,), default_value=None, dtype=tf.float32, normalizer_fn=None)]\n"
          ],
          "name": "stdout"
        }
      ]
    },
    {
      "cell_type": "code",
      "metadata": {
        "id": "SbzzrQXHyjlB",
        "outputId": "60f78a80-dd74-4403-e55e-81dba68ac827",
        "colab": {
          "base_uri": "https://localhost:8080/"
        }
      },
      "source": [
        "# Build a DNN with 2 hidden layers with 30 and 10 hidden nodes each.\n",
        "classifier = tf.estimator.DNNClassifier(\n",
        "    feature_columns=my_feature_columns,\n",
        "    # Two hidden layers of 30 and 10 nodes respectively.\n",
        "    hidden_units=[30, 10],\n",
        "    # The model must choose between 3 classes.\n",
        "    n_classes=3)"
      ],
      "execution_count": null,
      "outputs": [
        {
          "output_type": "stream",
          "text": [
            "INFO:tensorflow:Using default config.\n",
            "WARNING:tensorflow:Using temporary folder as model directory: /tmp/tmpw7r3j627\n",
            "INFO:tensorflow:Using config: {'_model_dir': '/tmp/tmpw7r3j627', '_tf_random_seed': None, '_save_summary_steps': 100, '_save_checkpoints_steps': None, '_save_checkpoints_secs': 600, '_session_config': allow_soft_placement: true\n",
            "graph_options {\n",
            "  rewrite_options {\n",
            "    meta_optimizer_iterations: ONE\n",
            "  }\n",
            "}\n",
            ", '_keep_checkpoint_max': 5, '_keep_checkpoint_every_n_hours': 10000, '_log_step_count_steps': 100, '_train_distribute': None, '_device_fn': None, '_protocol': None, '_eval_distribute': None, '_experimental_distribute': None, '_experimental_max_worker_delay_secs': None, '_session_creation_timeout_secs': 7200, '_service': None, '_cluster_spec': ClusterSpec({}), '_task_type': 'worker', '_task_id': 0, '_global_id_in_cluster': 0, '_master': '', '_evaluation_master': '', '_is_chief': True, '_num_ps_replicas': 0, '_num_worker_replicas': 1}\n"
          ],
          "name": "stdout"
        }
      ]
    },
    {
      "cell_type": "code",
      "metadata": {
        "id": "xVuhUVdHyjjL",
        "outputId": "92d544f9-c045-40fd-f66f-f407d8c9d773",
        "colab": {
          "base_uri": "https://localhost:8080/"
        }
      },
      "source": [
        "#training model\n",
        "#lambda is an one line annonymus function\n",
        "classifier.train(\n",
        "    input_fn=lambda: input_fn(train, train_y, training=True),\n",
        "    steps=5000)\n",
        "# We include a lambda to avoid creating an inner function previously"
      ],
      "execution_count": null,
      "outputs": [
        {
          "output_type": "stream",
          "text": [
            "INFO:tensorflow:Calling model_fn.\n",
            "WARNING:tensorflow:Layer dnn is casting an input tensor from dtype float64 to the layer's dtype of float32, which is new behavior in TensorFlow 2.  The layer has dtype float32 because its dtype defaults to floatx.\n",
            "\n",
            "If you intended to run this layer in float32, you can safely ignore this warning. If in doubt, this warning is likely only an issue if you are porting a TensorFlow 1.X model to TensorFlow 2.\n",
            "\n",
            "To change all layers to have dtype float64 by default, call `tf.keras.backend.set_floatx('float64')`. To change just this layer, pass dtype='float64' to the layer constructor. If you are the author of this layer, you can disable autocasting by passing autocast=False to the base Layer constructor.\n",
            "\n",
            "INFO:tensorflow:Done calling model_fn.\n",
            "INFO:tensorflow:Create CheckpointSaverHook.\n",
            "INFO:tensorflow:Graph was finalized.\n",
            "INFO:tensorflow:Running local_init_op.\n",
            "INFO:tensorflow:Done running local_init_op.\n",
            "INFO:tensorflow:Calling checkpoint listeners before saving checkpoint 0...\n",
            "INFO:tensorflow:Saving checkpoints for 0 into /tmp/tmpw7r3j627/model.ckpt.\n",
            "INFO:tensorflow:Calling checkpoint listeners after saving checkpoint 0...\n",
            "INFO:tensorflow:loss = 0.92513716, step = 0\n",
            "INFO:tensorflow:global_step/sec: 325.48\n",
            "INFO:tensorflow:loss = 0.71871996, step = 100 (0.313 sec)\n",
            "INFO:tensorflow:global_step/sec: 368.756\n",
            "INFO:tensorflow:loss = 0.6564827, step = 200 (0.269 sec)\n",
            "INFO:tensorflow:global_step/sec: 388.193\n",
            "INFO:tensorflow:loss = 0.634816, step = 300 (0.256 sec)\n",
            "INFO:tensorflow:global_step/sec: 380.22\n",
            "INFO:tensorflow:loss = 0.5989657, step = 400 (0.265 sec)\n",
            "INFO:tensorflow:global_step/sec: 387.212\n",
            "INFO:tensorflow:loss = 0.58515596, step = 500 (0.258 sec)\n",
            "INFO:tensorflow:global_step/sec: 364.855\n",
            "INFO:tensorflow:loss = 0.5688133, step = 600 (0.273 sec)\n",
            "INFO:tensorflow:global_step/sec: 384.966\n",
            "INFO:tensorflow:loss = 0.5491958, step = 700 (0.260 sec)\n",
            "INFO:tensorflow:global_step/sec: 374.86\n",
            "INFO:tensorflow:loss = 0.52372754, step = 800 (0.267 sec)\n",
            "INFO:tensorflow:global_step/sec: 382.879\n",
            "INFO:tensorflow:loss = 0.52049226, step = 900 (0.261 sec)\n",
            "INFO:tensorflow:global_step/sec: 387.032\n",
            "INFO:tensorflow:loss = 0.505672, step = 1000 (0.258 sec)\n",
            "INFO:tensorflow:global_step/sec: 371.879\n",
            "INFO:tensorflow:loss = 0.50016606, step = 1100 (0.268 sec)\n",
            "INFO:tensorflow:global_step/sec: 385.858\n",
            "INFO:tensorflow:loss = 0.4817703, step = 1200 (0.260 sec)\n",
            "INFO:tensorflow:global_step/sec: 387.884\n",
            "INFO:tensorflow:loss = 0.48307198, step = 1300 (0.257 sec)\n",
            "INFO:tensorflow:global_step/sec: 390.143\n",
            "INFO:tensorflow:loss = 0.471956, step = 1400 (0.257 sec)\n",
            "INFO:tensorflow:global_step/sec: 372.403\n",
            "INFO:tensorflow:loss = 0.45920235, step = 1500 (0.267 sec)\n",
            "INFO:tensorflow:global_step/sec: 389.681\n",
            "INFO:tensorflow:loss = 0.45127302, step = 1600 (0.258 sec)\n",
            "INFO:tensorflow:global_step/sec: 385.55\n",
            "INFO:tensorflow:loss = 0.45218763, step = 1700 (0.261 sec)\n",
            "INFO:tensorflow:global_step/sec: 384.902\n",
            "INFO:tensorflow:loss = 0.4431303, step = 1800 (0.261 sec)\n",
            "INFO:tensorflow:global_step/sec: 361.853\n",
            "INFO:tensorflow:loss = 0.44107273, step = 1900 (0.275 sec)\n",
            "INFO:tensorflow:global_step/sec: 375.721\n",
            "INFO:tensorflow:loss = 0.42219993, step = 2000 (0.266 sec)\n",
            "INFO:tensorflow:global_step/sec: 367.56\n",
            "INFO:tensorflow:loss = 0.42771083, step = 2100 (0.271 sec)\n",
            "INFO:tensorflow:global_step/sec: 372.936\n",
            "INFO:tensorflow:loss = 0.4218747, step = 2200 (0.269 sec)\n",
            "INFO:tensorflow:global_step/sec: 373.71\n",
            "INFO:tensorflow:loss = 0.4129668, step = 2300 (0.266 sec)\n",
            "INFO:tensorflow:global_step/sec: 389.478\n",
            "INFO:tensorflow:loss = 0.41014653, step = 2400 (0.258 sec)\n",
            "INFO:tensorflow:global_step/sec: 378.693\n",
            "INFO:tensorflow:loss = 0.40245777, step = 2500 (0.264 sec)\n",
            "INFO:tensorflow:global_step/sec: 388.194\n",
            "INFO:tensorflow:loss = 0.3943674, step = 2600 (0.256 sec)\n",
            "INFO:tensorflow:global_step/sec: 374.947\n",
            "INFO:tensorflow:loss = 0.39051548, step = 2700 (0.267 sec)\n",
            "INFO:tensorflow:global_step/sec: 378.364\n",
            "INFO:tensorflow:loss = 0.3880789, step = 2800 (0.263 sec)\n",
            "INFO:tensorflow:global_step/sec: 374.712\n",
            "INFO:tensorflow:loss = 0.38388053, step = 2900 (0.268 sec)\n",
            "INFO:tensorflow:global_step/sec: 384.992\n",
            "INFO:tensorflow:loss = 0.38585305, step = 3000 (0.261 sec)\n",
            "INFO:tensorflow:global_step/sec: 375.176\n",
            "INFO:tensorflow:loss = 0.37084812, step = 3100 (0.267 sec)\n",
            "INFO:tensorflow:global_step/sec: 388.193\n",
            "INFO:tensorflow:loss = 0.37319058, step = 3200 (0.257 sec)\n",
            "INFO:tensorflow:global_step/sec: 382.849\n",
            "INFO:tensorflow:loss = 0.37059402, step = 3300 (0.261 sec)\n",
            "INFO:tensorflow:global_step/sec: 373.723\n",
            "INFO:tensorflow:loss = 0.35952184, step = 3400 (0.268 sec)\n",
            "INFO:tensorflow:global_step/sec: 386.24\n",
            "INFO:tensorflow:loss = 0.3596756, step = 3500 (0.259 sec)\n",
            "INFO:tensorflow:global_step/sec: 387.32\n",
            "INFO:tensorflow:loss = 0.3544572, step = 3600 (0.258 sec)\n",
            "INFO:tensorflow:global_step/sec: 388.626\n",
            "INFO:tensorflow:loss = 0.35608026, step = 3700 (0.257 sec)\n",
            "INFO:tensorflow:global_step/sec: 365.862\n",
            "INFO:tensorflow:loss = 0.3513657, step = 3800 (0.274 sec)\n",
            "INFO:tensorflow:global_step/sec: 387.786\n",
            "INFO:tensorflow:loss = 0.3504742, step = 3900 (0.258 sec)\n",
            "INFO:tensorflow:global_step/sec: 387.705\n",
            "INFO:tensorflow:loss = 0.35805613, step = 4000 (0.256 sec)\n",
            "INFO:tensorflow:global_step/sec: 385.35\n",
            "INFO:tensorflow:loss = 0.3377973, step = 4100 (0.261 sec)\n",
            "INFO:tensorflow:global_step/sec: 364.357\n",
            "INFO:tensorflow:loss = 0.3331115, step = 4200 (0.275 sec)\n",
            "INFO:tensorflow:global_step/sec: 382.308\n",
            "INFO:tensorflow:loss = 0.32313418, step = 4300 (0.263 sec)\n",
            "INFO:tensorflow:global_step/sec: 378.676\n",
            "INFO:tensorflow:loss = 0.32723242, step = 4400 (0.262 sec)\n",
            "INFO:tensorflow:global_step/sec: 387.574\n",
            "INFO:tensorflow:loss = 0.32446182, step = 4500 (0.257 sec)\n",
            "INFO:tensorflow:global_step/sec: 368.993\n",
            "INFO:tensorflow:loss = 0.33256018, step = 4600 (0.273 sec)\n",
            "INFO:tensorflow:global_step/sec: 390.781\n",
            "INFO:tensorflow:loss = 0.3150599, step = 4700 (0.255 sec)\n",
            "INFO:tensorflow:global_step/sec: 382.105\n",
            "INFO:tensorflow:loss = 0.31775093, step = 4800 (0.260 sec)\n",
            "INFO:tensorflow:global_step/sec: 386.108\n",
            "INFO:tensorflow:loss = 0.3267776, step = 4900 (0.262 sec)\n",
            "INFO:tensorflow:Calling checkpoint listeners before saving checkpoint 5000...\n",
            "INFO:tensorflow:Saving checkpoints for 5000 into /tmp/tmpw7r3j627/model.ckpt.\n",
            "INFO:tensorflow:Calling checkpoint listeners after saving checkpoint 5000...\n",
            "INFO:tensorflow:Loss for final step: 0.31175786.\n"
          ],
          "name": "stdout"
        },
        {
          "output_type": "execute_result",
          "data": {
            "text/plain": [
              "<tensorflow_estimator.python.estimator.canned.dnn.DNNClassifierV2 at 0x7fa5a9b51908>"
            ]
          },
          "metadata": {
            "tags": []
          },
          "execution_count": 213
        }
      ]
    },
    {
      "cell_type": "code",
      "metadata": {
        "id": "G-04mExbyjf_"
      },
      "source": [
        "#evaluation"
      ],
      "execution_count": null,
      "outputs": []
    },
    {
      "cell_type": "code",
      "metadata": {
        "id": "0op1DoHXyjX4",
        "outputId": "8ebbf4d1-19cd-4f17-cd8e-201102ac6aa4",
        "colab": {
          "base_uri": "https://localhost:8080/"
        }
      },
      "source": [
        "eval_result = classifier.evaluate(\n",
        "    input_fn=lambda: input_fn(test, test_y, training=False))\n",
        "\n",
        "print('\\nTest set accuracy: {accuracy:0.3f}\\n'.format(**eval_result))"
      ],
      "execution_count": null,
      "outputs": [
        {
          "output_type": "stream",
          "text": [
            "INFO:tensorflow:Calling model_fn.\n",
            "WARNING:tensorflow:Layer dnn is casting an input tensor from dtype float64 to the layer's dtype of float32, which is new behavior in TensorFlow 2.  The layer has dtype float32 because its dtype defaults to floatx.\n",
            "\n",
            "If you intended to run this layer in float32, you can safely ignore this warning. If in doubt, this warning is likely only an issue if you are porting a TensorFlow 1.X model to TensorFlow 2.\n",
            "\n",
            "To change all layers to have dtype float64 by default, call `tf.keras.backend.set_floatx('float64')`. To change just this layer, pass dtype='float64' to the layer constructor. If you are the author of this layer, you can disable autocasting by passing autocast=False to the base Layer constructor.\n",
            "\n",
            "INFO:tensorflow:Done calling model_fn.\n",
            "INFO:tensorflow:Starting evaluation at 2020-11-05T03:37:48Z\n",
            "INFO:tensorflow:Graph was finalized.\n",
            "INFO:tensorflow:Restoring parameters from /tmp/tmpw7r3j627/model.ckpt-5000\n",
            "INFO:tensorflow:Running local_init_op.\n",
            "INFO:tensorflow:Done running local_init_op.\n",
            "INFO:tensorflow:Inference Time : 0.20304s\n",
            "INFO:tensorflow:Finished evaluation at 2020-11-05-03:37:48\n",
            "INFO:tensorflow:Saving dict for global step 5000: accuracy = 0.93333334, average_loss = 0.37126163, global_step = 5000, loss = 0.37126163\n",
            "INFO:tensorflow:Saving 'checkpoint_path' summary for global step 5000: /tmp/tmpw7r3j627/model.ckpt-5000\n",
            "\n",
            "Test set accuracy: 0.933\n",
            "\n"
          ],
          "name": "stdout"
        }
      ]
    },
    {
      "cell_type": "code",
      "metadata": {
        "id": "NrhobaqkyjN2",
        "outputId": "61d0d152-23f0-4e4a-e1dc-eaea4740a7d0",
        "colab": {
          "base_uri": "https://localhost:8080/"
        }
      },
      "source": [
        "#testing on DNN\n",
        "\n",
        "def input_fn(features, batch_size=256):\n",
        "    # Convert the inputs to a Dataset without labels.\n",
        "    return tf.data.Dataset.from_tensor_slices(dict(features)).batch(batch_size)\n",
        "\n",
        "features = ['SepalLength', 'SepalWidth', 'PetalLength', 'PetalWidth']\n",
        "predict = {}\n",
        "\n",
        "print(\"Please type numeric values as prompted.\")\n",
        "for feature in features:\n",
        "  valid = True\n",
        "  while valid: \n",
        "    val = input(feature + \": \")\n",
        "    if not val.isdigit(): valid = False\n",
        "\n",
        "  predict[feature] = [float(val)]\n",
        "\n",
        "predictions = classifier.predict(input_fn=1.lambda: input_fn(predict))\n",
        "for pred_dict in predictions:\n",
        "    class_id = pred_dict['class_ids'][0]\n",
        "    probability = pred_dict['probabilities'][class_id]\n",
        "\n",
        "    print('Prediction is \"{}\" ({:.1f}%)'.format(\n",
        "        SPECIES[class_id], 100 * probability))"
      ],
      "execution_count": null,
      "outputs": [
        {
          "output_type": "stream",
          "text": [
            "Please type numeric values as prompted.\n",
            "SepalLength: 1\n",
            "SepalLength: 2.2\n",
            "SepalWidth: 2.2\n",
            "PetalLength: 2.2\n",
            "PetalWidth: 2.2\n",
            "INFO:tensorflow:Calling model_fn.\n",
            "INFO:tensorflow:Done calling model_fn.\n",
            "INFO:tensorflow:Graph was finalized.\n",
            "INFO:tensorflow:Restoring parameters from /tmp/tmpw7r3j627/model.ckpt-5000\n",
            "INFO:tensorflow:Running local_init_op.\n",
            "INFO:tensorflow:Done running local_init_op.\n",
            "Prediction is \"Virginica\" (67.9%)\n"
          ],
          "name": "stdout"
        }
      ]
    },
    {
      "cell_type": "code",
      "metadata": {
        "id": "V0AcPneUyiw6"
      },
      "source": [
        ""
      ],
      "execution_count": null,
      "outputs": []
    }
  ]
}