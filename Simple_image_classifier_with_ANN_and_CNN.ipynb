{
  "nbformat": 4,
  "nbformat_minor": 0,
  "metadata": {
    "colab": {
      "name": "Simple image classifier with ANN and CNN.ipynb",
      "provenance": [],
      "collapsed_sections": [
        "Q2kVlroHAyDl"
      ],
      "authorship_tag": "ABX9TyMq0dnXAOuyuEHQXL2Tyr2J",
      "include_colab_link": true
    },
    "kernelspec": {
      "name": "python3",
      "display_name": "Python 3"
    },
    "accelerator": "GPU"
  },
  "cells": [
    {
      "cell_type": "markdown",
      "metadata": {
        "id": "view-in-github",
        "colab_type": "text"
      },
      "source": [
        "<a href=\"https://colab.research.google.com/github/nasiksami/Deep-Learning/blob/main/Simple_image_classifier_with_ANN_and_CNN.ipynb\" target=\"_parent\"><img src=\"https://colab.research.google.com/assets/colab-badge.svg\" alt=\"Open In Colab\"/></a>"
      ]
    },
    {
      "cell_type": "markdown",
      "metadata": {
        "id": "GGLSNZkH4_1c"
      },
      "source": [
        "\n",
        "\n",
        "**Neural Network building with fashion_mnist data**"
      ]
    },
    {
      "cell_type": "code",
      "metadata": {
        "id": "MsfzciwP4_jV",
        "outputId": "41464994-d035-448d-c96d-ce3bc6e8749e",
        "colab": {
          "base_uri": "https://localhost:8080/"
        }
      },
      "source": [
        "%tensorflow_version 2.x  # this line is not required unless you are in a notebook\n",
        "# TensorFlow and tf.keras\n",
        "import tensorflow as tf\n",
        "from tensorflow import keras\n",
        "\n",
        "# Helper libraries\n",
        "import numpy as np\n",
        "import matplotlib.pyplot as plt"
      ],
      "execution_count": null,
      "outputs": [
        {
          "output_type": "stream",
          "text": [
            "`%tensorflow_version` only switches the major version: 1.x or 2.x.\n",
            "You set: `2.x  # this line is not required unless you are in a notebook`. This will be interpreted as: `2.x`.\n",
            "\n",
            "\n",
            "TensorFlow 2.x selected.\n"
          ],
          "name": "stdout"
        }
      ]
    },
    {
      "cell_type": "code",
      "metadata": {
        "id": "PAXj4Yl25DWD",
        "outputId": "a2646705-5cd8-4fee-ee2a-2cb294dd4e96",
        "colab": {
          "base_uri": "https://localhost:8080/"
        }
      },
      "source": [
        "fashion_mnist = keras.datasets.fashion_mnist  # load dataset\n",
        "\n",
        "(train_images, train_labels), (test_images, test_labels) = fashion_mnist.load_data()  # split into tetsing and training"
      ],
      "execution_count": null,
      "outputs": [
        {
          "output_type": "stream",
          "text": [
            "Downloading data from https://storage.googleapis.com/tensorflow/tf-keras-datasets/train-labels-idx1-ubyte.gz\n",
            "32768/29515 [=================================] - 0s 0us/step\n",
            "Downloading data from https://storage.googleapis.com/tensorflow/tf-keras-datasets/train-images-idx3-ubyte.gz\n",
            "26427392/26421880 [==============================] - 0s 0us/step\n",
            "Downloading data from https://storage.googleapis.com/tensorflow/tf-keras-datasets/t10k-labels-idx1-ubyte.gz\n",
            "8192/5148 [===============================================] - 0s 0us/step\n",
            "Downloading data from https://storage.googleapis.com/tensorflow/tf-keras-datasets/t10k-images-idx3-ubyte.gz\n",
            "4423680/4422102 [==============================] - 0s 0us/step\n"
          ],
          "name": "stdout"
        }
      ]
    },
    {
      "cell_type": "code",
      "metadata": {
        "id": "bBKoGEQ64_nP",
        "outputId": "2426d95d-909a-4946-bda9-a0ad54effedd",
        "colab": {
          "base_uri": "https://localhost:8080/"
        }
      },
      "source": [
        "train_images.shape"
      ],
      "execution_count": null,
      "outputs": [
        {
          "output_type": "execute_result",
          "data": {
            "text/plain": [
              "(60000, 28, 28)"
            ]
          },
          "metadata": {
            "tags": []
          },
          "execution_count": 3
        }
      ]
    },
    {
      "cell_type": "code",
      "metadata": {
        "id": "KD6zDB615rxA",
        "outputId": "3bf151a8-dbb5-4578-b6fd-cba091cf6d46",
        "colab": {
          "base_uri": "https://localhost:8080/"
        }
      },
      "source": [
        "train_images[0,23,23]  # let's have a look at one pixel"
      ],
      "execution_count": null,
      "outputs": [
        {
          "output_type": "execute_result",
          "data": {
            "text/plain": [
              "194"
            ]
          },
          "metadata": {
            "tags": []
          },
          "execution_count": 4
        }
      ]
    },
    {
      "cell_type": "code",
      "metadata": {
        "id": "AnfY03Mu5wJ1",
        "outputId": "7923c398-96ca-4a1c-b3d0-d13c278becf8",
        "colab": {
          "base_uri": "https://localhost:8080/"
        }
      },
      "source": [
        "train_labels[:10]  # let's have a look at the first 10 training labels"
      ],
      "execution_count": null,
      "outputs": [
        {
          "output_type": "execute_result",
          "data": {
            "text/plain": [
              "array([9, 0, 0, 3, 0, 2, 7, 2, 5, 5], dtype=uint8)"
            ]
          },
          "metadata": {
            "tags": []
          },
          "execution_count": 5
        }
      ]
    },
    {
      "cell_type": "code",
      "metadata": {
        "id": "S3buWVx059dD"
      },
      "source": [
        "class_names = ['T-shirt/top', 'Trouser', 'Pullover', 'Dress', 'Coat',\n",
        "               'Sandal', 'Shirt', 'Sneaker', 'Bag', 'Ankle boot']"
      ],
      "execution_count": null,
      "outputs": []
    },
    {
      "cell_type": "code",
      "metadata": {
        "id": "iP5wvgJ56FXu",
        "outputId": "8d445b1b-035e-4b76-920f-6c5b664a34eb",
        "colab": {
          "base_uri": "https://localhost:8080/",
          "height": 265
        }
      },
      "source": [
        "plt.figure()\n",
        "plt.imshow(train_images[494])\n",
        "plt.colorbar()\n",
        "plt.grid(False)\n",
        "plt.show()"
      ],
      "execution_count": null,
      "outputs": [
        {
          "output_type": "display_data",
          "data": {
            "image/png": "[encoded data removed]",
            "text/plain": [
              "<Figure size 432x288 with 2 Axes>"
            ]
          },
          "metadata": {
            "tags": [],
            "needs_background": "light"
          }
        }
      ]
    },
    {
      "cell_type": "code",
      "metadata": {
        "id": "0mpJj_cI6LZ1"
      },
      "source": [
        "##Data Preprocessing"
      ],
      "execution_count": null,
      "outputs": []
    },
    {
      "cell_type": "code",
      "metadata": {
        "id": "Cbgn2CHw6Ujh"
      },
      "source": [
        "train_images = train_images / 255.0\n",
        "\n",
        "test_images = test_images / 255.0"
      ],
      "execution_count": null,
      "outputs": []
    },
    {
      "cell_type": "code",
      "metadata": {
        "id": "ZoCtiAXm6fZK"
      },
      "source": [
        "#this is very important cause if the image pixel number is very high, it will take\n",
        "#much more time to reach to global minima but in this way we will convert all the images \n",
        "#into 0 to 1\n",
        "#train test both must be done "
      ],
      "execution_count": null,
      "outputs": []
    },
    {
      "cell_type": "code",
      "metadata": {
        "id": "o34vxJpG6znM"
      },
      "source": [
        "##model building\n",
        "#sequencial is just simple one \n",
        "#the data will move from left to right "
      ],
      "execution_count": null,
      "outputs": []
    },
    {
      "cell_type": "code",
      "metadata": {
        "id": "vvaS8vqg7A35"
      },
      "source": [
        "model = keras.Sequential([\n",
        "    keras.layers.Flatten(input_shape=(28, 28)),  # input layer (1)    #flatten makes 28*28 to 784 \n",
        "    keras.layers.Dense(128, activation='relu'),  # hidden layer (2)   #first hidden layer. Dense meaning fully connected, 128 randomly taken. \n",
        "    keras.layers.Dense(10, activation='softmax') # output layer (3)   #O/P layers. The number is same as the numnber of categories we have \n",
        "                                                                      #softmax makes the output value ranging between 0 and 1\n",
        "])\n",
        "\n",
        "\n",
        "model.compile(optimizer='adam',\n",
        "              loss='sparse_categorical_crossentropy',\n",
        "              metrics=['accuracy'])"
      ],
      "execution_count": null,
      "outputs": []
    },
    {
      "cell_type": "code",
      "metadata": {
        "id": "n0edKDT77W92"
      },
      "source": [
        "###Compile the Model\n",
        "#optimizer adam will help to get the global minima \n",
        "#loss is sparse categorical crossentropy \n"
      ],
      "execution_count": null,
      "outputs": []
    },
    {
      "cell_type": "code",
      "metadata": {
        "id": "03GnDSmv8SC8"
      },
      "source": [
        "#training "
      ],
      "execution_count": null,
      "outputs": []
    },
    {
      "cell_type": "code",
      "metadata": {
        "id": "fdnPUAKP8bX5",
        "outputId": "55b1fdf9-2853-4182-c749-5657b7ebe83b",
        "colab": {
          "base_uri": "https://localhost:8080/"
        }
      },
      "source": [
        "model.fit(train_images, train_labels, epochs=10)  # we pass the data, labels and epochs and watch the magic!"
      ],
      "execution_count": null,
      "outputs": [
        {
          "output_type": "stream",
          "text": [
            "Epoch 1/10\n",
            "1875/1875 [==============================] - 3s 2ms/step - loss: 0.4958 - accuracy: 0.8249\n",
            "Epoch 2/10\n",
            "1875/1875 [==============================] - 3s 2ms/step - loss: 0.3729 - accuracy: 0.8652\n",
            "Epoch 3/10\n",
            "1875/1875 [==============================] - 3s 2ms/step - loss: 0.3325 - accuracy: 0.8786\n",
            "Epoch 4/10\n",
            "1875/1875 [==============================] - 3s 2ms/step - loss: 0.3085 - accuracy: 0.8867\n",
            "Epoch 5/10\n",
            "1875/1875 [==============================] - 3s 2ms/step - loss: 0.2926 - accuracy: 0.8928\n",
            "Epoch 6/10\n",
            "1875/1875 [==============================] - 3s 2ms/step - loss: 0.2755 - accuracy: 0.8973\n",
            "Epoch 7/10\n",
            "1875/1875 [==============================] - 3s 2ms/step - loss: 0.2653 - accuracy: 0.9010\n",
            "Epoch 8/10\n",
            "1875/1875 [==============================] - 3s 2ms/step - loss: 0.2542 - accuracy: 0.9047\n",
            "Epoch 9/10\n",
            "1875/1875 [==============================] - 3s 2ms/step - loss: 0.2451 - accuracy: 0.9091\n",
            "Epoch 10/10\n",
            "1875/1875 [==============================] - 3s 2ms/step - loss: 0.2347 - accuracy: 0.9131\n"
          ],
          "name": "stdout"
        },
        {
          "output_type": "execute_result",
          "data": {
            "text/plain": [
              "<tensorflow.python.keras.callbacks.History at 0x7ff9acf486a0>"
            ]
          },
          "metadata": {
            "tags": []
          },
          "execution_count": 25
        }
      ]
    },
    {
      "cell_type": "code",
      "metadata": {
        "id": "GSnJ9GVJ8e_r",
        "outputId": "1e428fc1-60d9-403c-a464-2f3ddae38ce0",
        "colab": {
          "base_uri": "https://localhost:8080/"
        }
      },
      "source": [
        "#evaluating the model # verbose is how much it is showing on the output\n",
        "test_loss, test_acc = model.evaluate(test_images,  test_labels, verbose=1) \n",
        "\n",
        "print('Test accuracy:', test_acc)"
      ],
      "execution_count": null,
      "outputs": [
        {
          "output_type": "stream",
          "text": [
            "313/313 [==============================] - 1s 2ms/step - loss: 0.3307 - accuracy: 0.8853\n",
            "Test accuracy: 0.8852999806404114\n"
          ],
          "name": "stdout"
        }
      ]
    },
    {
      "cell_type": "code",
      "metadata": {
        "id": "03zZpmcM80n_"
      },
      "source": [
        "#accuracy is lesser in testing than in the training. Which means overfitting.\n",
        "#too many epochs are also not good. "
      ],
      "execution_count": null,
      "outputs": []
    },
    {
      "cell_type": "code",
      "metadata": {
        "id": "QUSQrP6e9R3D",
        "outputId": "ef69fda4-bae5-4883-fa86-61ad18c54a58",
        "colab": {
          "base_uri": "https://localhost:8080/"
        }
      },
      "source": [
        "#prediction\n",
        "predictions = model.predict(test_images)\n",
        "print (predictions[0])"
      ],
      "execution_count": null,
      "outputs": [
        {
          "output_type": "stream",
          "text": [
            "[3.4228673e-08 9.4523304e-13 2.4998233e-08 1.4249187e-12 1.2053584e-09\n",
            " 3.0163871e-04 5.9930137e-08 2.7847087e-03 3.9086274e-08 9.9691355e-01]\n"
          ],
          "name": "stdout"
        }
      ]
    },
    {
      "cell_type": "code",
      "metadata": {
        "id": "uGJWQYTO905F",
        "outputId": "53de7b44-2f8b-45fa-d19a-a350a3f1bcc4",
        "colab": {
          "base_uri": "https://localhost:8080/"
        }
      },
      "source": [
        "test_labels[0]"
      ],
      "execution_count": null,
      "outputs": [
        {
          "output_type": "execute_result",
          "data": {
            "text/plain": [
              "9"
            ]
          },
          "metadata": {
            "tags": []
          },
          "execution_count": 36
        }
      ]
    },
    {
      "cell_type": "code",
      "metadata": {
        "id": "tfh4Rm8q-GPc",
        "outputId": "e4faded7-33c9-473c-8cdb-17a37db41a50",
        "colab": {
          "base_uri": "https://localhost:8080/"
        }
      },
      "source": [
        "print(np.argmax(predictions[0]))"
      ],
      "execution_count": null,
      "outputs": [
        {
          "output_type": "stream",
          "text": [
            "9\n"
          ],
          "name": "stdout"
        }
      ]
    },
    {
      "cell_type": "code",
      "metadata": {
        "id": "bQFkXJlJ-Zsr",
        "outputId": "ca4f3e85-1ee1-41d1-c323-8ff90909534c",
        "colab": {
          "base_uri": "https://localhost:8080/",
          "height": 286
        }
      },
      "source": [
        "predictions = model.predict(test_images)\n",
        "print(class_names[np.argmax(predictions[214])])\n",
        "plt.figure()\n",
        "plt.imshow(test_images[214])\n",
        "plt.colorbar()\n",
        "plt.grid(False)\n",
        "plt.show()"
      ],
      "execution_count": null,
      "outputs": [
        {
          "output_type": "stream",
          "text": [
            "Trouser\n"
          ],
          "name": "stdout"
        },
        {
          "output_type": "display_data",
          "data": {
            "image/png": "[encoded data removed]",
            "text/plain": [
              "<Figure size 432x288 with 2 Axes>"
            ]
          },
          "metadata": {
            "tags": [],
            "needs_background": "light"
          }
        }
      ]
    },
    {
      "cell_type": "code",
      "metadata": {
        "id": "895fwljM-xGN",
        "outputId": "85d7b7a8-71ac-44a8-e0f2-d6c24c68f3b2",
        "colab": {
          "base_uri": "https://localhost:8080/",
          "height": 312
        }
      },
      "source": [
        "COLOR = 'crimson'\n",
        "plt.rcParams['text.color'] = COLOR\n",
        "plt.rcParams['axes.labelcolor'] = COLOR\n",
        "\n",
        "def predict(model, image, correct_label):\n",
        "  class_names = ['T-shirt/top', 'Trouser', 'Pullover', 'Dress', 'Coat',\n",
        "               'Sandal', 'Shirt', 'Sneaker', 'Bag', 'Ankle boot']\n",
        "  prediction = model.predict(np.array([image]))\n",
        "  predicted_class = class_names[np.argmax(prediction)]\n",
        "\n",
        "  show_image(image, class_names[correct_label], predicted_class)\n",
        "\n",
        "\n",
        "def show_image(img, label, guess):\n",
        "  plt.figure()\n",
        "  plt.imshow(img, cmap=plt.cm.binary)\n",
        "  plt.title(\"Excpected: \" + label)\n",
        "  plt.xlabel(\"Guess: \" + guess)\n",
        "  plt.colorbar()\n",
        "  plt.grid(False)\n",
        "  plt.show()\n",
        "\n",
        "\n",
        "def get_number():\n",
        "  while True:\n",
        "    num = input(\"Pick a number: \")\n",
        "    if num.isdigit():\n",
        "      num = int(num)\n",
        "      if 0 <= num <= 1000:\n",
        "        return int(num)\n",
        "    else:\n",
        "      print(\"Try again...\")\n",
        "\n",
        "num = get_number()\n",
        "image = test_images[num]\n",
        "label = test_labels[num]\n",
        "predict(model, image, label)\n"
      ],
      "execution_count": null,
      "outputs": [
        {
          "output_type": "stream",
          "text": [
            "Pick a number: 777\n"
          ],
          "name": "stdout"
        },
        {
          "output_type": "display_data",
          "data": {
            "image/png": "[encoded data removed]",
            "text/plain": [
              "<Figure size 432x288 with 2 Axes>"
            ]
          },
          "metadata": {
            "tags": [],
            "needs_background": "light"
          }
        }
      ]
    },
    {
      "cell_type": "markdown",
      "metadata": {
        "id": "ySSy_x5NToRH"
      },
      "source": [
        "# **Lets try again with CNN**"
      ]
    },
    {
      "cell_type": "code",
      "metadata": {
        "id": "2Tubx-AUTsmB",
        "outputId": "384c1506-d357-4e4d-85b0-ab9b7aa74b78",
        "colab": {
          "base_uri": "https://localhost:8080/"
        }
      },
      "source": [
        "import tensorflow.keras\n",
        "from tensorflow.keras.callbacks import EarlyStopping\n",
        "from tensorflow.keras.layers import Dense, Dropout\n",
        "from tensorflow.keras import regularizers\n",
        "from tensorflow.keras.datasets import fashion_mnist\n",
        "\n",
        "(x_train, y_train), (x_test, y_test) = fashion_mnist.load_data()\n",
        "print(\"Shape of x_train: {}\".format(x_train.shape))\n",
        "print(\"Shape of y_train: {}\".format(y_train.shape))\n",
        "print()\n",
        "print(\"Shape of x_test: {}\".format(x_test.shape))\n",
        "print(\"Shape of y_test: {}\".format(y_test.shape))"
      ],
      "execution_count": null,
      "outputs": [
        {
          "output_type": "stream",
          "text": [
            "Downloading data from https://storage.googleapis.com/tensorflow/tf-keras-datasets/train-labels-idx1-ubyte.gz\n",
            "32768/29515 [=================================] - 0s 0us/step\n",
            "Downloading data from https://storage.googleapis.com/tensorflow/tf-keras-datasets/train-images-idx3-ubyte.gz\n",
            "26427392/26421880 [==============================] - 0s 0us/step\n",
            "Downloading data from https://storage.googleapis.com/tensorflow/tf-keras-datasets/t10k-labels-idx1-ubyte.gz\n",
            "8192/5148 [===============================================] - 0s 0us/step\n",
            "Downloading data from https://storage.googleapis.com/tensorflow/tf-keras-datasets/t10k-images-idx3-ubyte.gz\n",
            "4423680/4422102 [==============================] - 0s 0us/step\n",
            "Shape of x_train: (60000, 28, 28)\n",
            "Shape of y_train: (60000,)\n",
            "\n",
            "Shape of x_test: (10000, 28, 28)\n",
            "Shape of y_test: (10000,)\n"
          ],
          "name": "stdout"
        }
      ]
    },
    {
      "cell_type": "code",
      "metadata": {
        "id": "7o6Zuno-Tt8K",
        "outputId": "3e681ba7-cb07-41dd-9db4-6e09bba9abfb",
        "colab": {
          "base_uri": "https://localhost:8080/",
          "height": 470
        }
      },
      "source": [
        "\n",
        "# Display as text\n",
        "from IPython.display import display\n",
        "import pandas as pd\n",
        "\n",
        "print(\"Shape for dataset: {}\".format(x_train.shape))\n",
        "print(\"Labels: {}\".format(y_train))\n",
        "\n",
        "# Single MNIST \n",
        "single = x_train[0]\n",
        "print(\"Shape for single: {}\".format(single.shape))\n",
        "\n",
        "pd.set_option('display.max_columns', 7)\n",
        "pd.set_option('display.max_rows', 10)\n",
        "pd.DataFrame(single.reshape(28,28))"
      ],
      "execution_count": null,
      "outputs": [
        {
          "output_type": "stream",
          "text": [
            "Shape for dataset: (60000, 28, 28)\n",
            "Labels: [9 0 0 ... 3 0 5]\n",
            "Shape for single: (28, 28)\n"
          ],
          "name": "stdout"
        },
        {
          "output_type": "execute_result",
          "data": {
            "text/html": [
              "<div>\n",
              "<style scoped>\n",
              "    .dataframe tbody tr th:only-of-type {\n",
              "        vertical-align: middle;\n",
              "    }\n",
              "\n",
              "    .dataframe tbody tr th {\n",
              "        vertical-align: top;\n",
              "    }\n",
              "\n",
              "    .dataframe thead th {\n",
              "        text-align: right;\n",
              "    }\n",
              "</style>\n",
              "<table border=\"1\" class=\"dataframe\">\n",
              "  <thead>\n",
              "    <tr style=\"text-align: right;\">\n",
              "      <th></th>\n",
              "      <th>0</th>\n",
              "      <th>1</th>\n",
              "      <th>2</th>\n",
              "      <th>...</th>\n",
              "      <th>25</th>\n",
              "      <th>26</th>\n",
              "      <th>27</th>\n",
              "    </tr>\n",
              "  </thead>\n",
              "  <tbody>\n",
              "    <tr>\n",
              "      <th>0</th>\n",
              "      <td>0</td>\n",
              "      <td>0</td>\n",
              "      <td>0</td>\n",
              "      <td>...</td>\n",
              "      <td>0</td>\n",
              "      <td>0</td>\n",
              "      <td>0</td>\n",
              "    </tr>\n",
              "    <tr>\n",
              "      <th>1</th>\n",
              "      <td>0</td>\n",
              "      <td>0</td>\n",
              "      <td>0</td>\n",
              "      <td>...</td>\n",
              "      <td>0</td>\n",
              "      <td>0</td>\n",
              "      <td>0</td>\n",
              "    </tr>\n",
              "    <tr>\n",
              "      <th>2</th>\n",
              "      <td>0</td>\n",
              "      <td>0</td>\n",
              "      <td>0</td>\n",
              "      <td>...</td>\n",
              "      <td>0</td>\n",
              "      <td>0</td>\n",
              "      <td>0</td>\n",
              "    </tr>\n",
              "    <tr>\n",
              "      <th>3</th>\n",
              "      <td>0</td>\n",
              "      <td>0</td>\n",
              "      <td>0</td>\n",
              "      <td>...</td>\n",
              "      <td>1</td>\n",
              "      <td>1</td>\n",
              "      <td>0</td>\n",
              "    </tr>\n",
              "    <tr>\n",
              "      <th>4</th>\n",
              "      <td>0</td>\n",
              "      <td>0</td>\n",
              "      <td>0</td>\n",
              "      <td>...</td>\n",
              "      <td>0</td>\n",
              "      <td>0</td>\n",
              "      <td>3</td>\n",
              "    </tr>\n",
              "    <tr>\n",
              "      <th>...</th>\n",
              "      <td>...</td>\n",
              "      <td>...</td>\n",
              "      <td>...</td>\n",
              "      <td>...</td>\n",
              "      <td>...</td>\n",
              "      <td>...</td>\n",
              "      <td>...</td>\n",
              "    </tr>\n",
              "    <tr>\n",
              "      <th>23</th>\n",
              "      <td>0</td>\n",
              "      <td>0</td>\n",
              "      <td>74</td>\n",
              "      <td>...</td>\n",
              "      <td>216</td>\n",
              "      <td>170</td>\n",
              "      <td>0</td>\n",
              "    </tr>\n",
              "    <tr>\n",
              "      <th>24</th>\n",
              "      <td>2</td>\n",
              "      <td>0</td>\n",
              "      <td>0</td>\n",
              "      <td>...</td>\n",
              "      <td>58</td>\n",
              "      <td>0</td>\n",
              "      <td>0</td>\n",
              "    </tr>\n",
              "    <tr>\n",
              "      <th>25</th>\n",
              "      <td>0</td>\n",
              "      <td>0</td>\n",
              "      <td>0</td>\n",
              "      <td>...</td>\n",
              "      <td>0</td>\n",
              "      <td>0</td>\n",
              "      <td>0</td>\n",
              "    </tr>\n",
              "    <tr>\n",
              "      <th>26</th>\n",
              "      <td>0</td>\n",
              "      <td>0</td>\n",
              "      <td>0</td>\n",
              "      <td>...</td>\n",
              "      <td>0</td>\n",
              "      <td>0</td>\n",
              "      <td>0</td>\n",
              "    </tr>\n",
              "    <tr>\n",
              "      <th>27</th>\n",
              "      <td>0</td>\n",
              "      <td>0</td>\n",
              "      <td>0</td>\n",
              "      <td>...</td>\n",
              "      <td>0</td>\n",
              "      <td>0</td>\n",
              "      <td>0</td>\n",
              "    </tr>\n",
              "  </tbody>\n",
              "</table>\n",
              "<p>28 rows × 28 columns</p>\n",
              "</div>"
            ],
            "text/plain": [
              "    0   1   2   ...   25   26  27\n",
              "0    0   0   0  ...    0    0   0\n",
              "1    0   0   0  ...    0    0   0\n",
              "2    0   0   0  ...    0    0   0\n",
              "3    0   0   0  ...    1    1   0\n",
              "4    0   0   0  ...    0    0   3\n",
              "..  ..  ..  ..  ...  ...  ...  ..\n",
              "23   0   0  74  ...  216  170   0\n",
              "24   2   0   0  ...   58    0   0\n",
              "25   0   0   0  ...    0    0   0\n",
              "26   0   0   0  ...    0    0   0\n",
              "27   0   0   0  ...    0    0   0\n",
              "\n",
              "[28 rows x 28 columns]"
            ]
          },
          "metadata": {
            "tags": []
          },
          "execution_count": 2
        }
      ]
    },
    {
      "cell_type": "code",
      "metadata": {
        "id": "XwKo_IwcTyvg",
        "outputId": "bbc76b4b-0599-4d61-9ab5-33ad2c9dc475",
        "colab": {
          "base_uri": "https://localhost:8080/",
          "height": 282
        }
      },
      "source": [
        "# Display as image\n",
        "%matplotlib inline\n",
        "import matplotlib.pyplot as plt\n",
        "import numpy as np\n",
        "digit = 90 # Change to choose new article\n",
        "a = x_train[digit]\n",
        "plt.imshow(a, cmap='gray', interpolation='nearest')\n",
        "print(\"Image (#{}): Which is digit '{}'\".format(digit,y_train[digit]))"
      ],
      "execution_count": null,
      "outputs": [
        {
          "output_type": "stream",
          "text": [
            "Image (#90): Which is digit '9'\n"
          ],
          "name": "stdout"
        },
        {
          "output_type": "display_data",
          "data": {
            "image/png": "[encoded data removed]",
            "text/plain": [
              "<Figure size 432x288 with 1 Axes>"
            ]
          },
          "metadata": {
            "tags": [],
            "needs_background": "light"
          }
        }
      ]
    },
    {
      "cell_type": "code",
      "metadata": {
        "id": "x5unpEeXT3HL",
        "outputId": "8a4349ea-5ee9-4c07-d5f8-e38da0089894",
        "colab": {
          "base_uri": "https://localhost:8080/",
          "height": 458
        }
      },
      "source": [
        "import random\n",
        "\n",
        "ROWS = 6\n",
        "random_indices = random.sample(range(x_train.shape[0]), ROWS*ROWS)\n",
        "\n",
        "sample_images = x_train[random_indices, :]\n",
        "\n",
        "plt.clf()\n",
        "\n",
        "fig, axes = plt.subplots(ROWS,ROWS, \n",
        "                         figsize=(ROWS,ROWS),\n",
        "                         sharex=True, sharey=True) \n",
        "\n",
        "for i in range(ROWS*ROWS):\n",
        "    subplot_row = i//ROWS \n",
        "    subplot_col = i%ROWS\n",
        "    ax = axes[subplot_row, subplot_col]\n",
        "\n",
        "    plottable_image = np.reshape(sample_images[i,:], (28,28))\n",
        "    ax.imshow(plottable_image, cmap='gray_r')\n",
        "    \n",
        "    ax.set_xbound([0,28])\n",
        "\n",
        "plt.tight_layout()\n",
        "plt.show()"
      ],
      "execution_count": null,
      "outputs": [
        {
          "output_type": "display_data",
          "data": {
            "text/plain": [
              "<Figure size 432x288 with 0 Axes>"
            ]
          },
          "metadata": {
            "tags": []
          }
        },
        {
          "output_type": "display_data",
          "data": {
            "image/png": "[encoded data removed]",
            "text/plain": [
              "<Figure size 432x432 with 36 Axes>"
            ]
          },
          "metadata": {
            "tags": [],
            "needs_background": "light"
          }
        }
      ]
    },
    {
      "cell_type": "code",
      "metadata": {
        "id": "H6e2-HSQT8UT",
        "outputId": "730cd873-4dab-47af-ce37-7ae628b304b8",
        "colab": {
          "base_uri": "https://localhost:8080/"
        }
      },
      "source": [
        "import tensorflow.keras\n",
        "from tensorflow.keras.datasets import mnist\n",
        "from tensorflow.keras.models import Sequential\n",
        "from tensorflow.keras.layers import Dense, Dropout, Flatten\n",
        "from tensorflow.keras.layers import Conv2D, MaxPooling2D\n",
        "from tensorflow.keras import backend as K\n",
        "batch_size = 128\n",
        "num_classes = 10\n",
        "epochs = 12\n",
        "# input image dimensions\n",
        "img_rows, img_cols = 28, 28\n",
        "if K.image_data_format() == 'channels_first':\n",
        "    x_train = x_train.reshape(x_train.shape[0], 1, img_rows, img_cols)\n",
        "    x_test = x_test.reshape(x_test.shape[0], 1, img_rows, img_cols)\n",
        "    input_shape = (1, img_rows, img_cols)\n",
        "else:\n",
        "    x_train = x_train.reshape(x_train.shape[0], img_rows, img_cols, 1)\n",
        "    x_test = x_test.reshape(x_test.shape[0], img_rows, img_cols, 1)\n",
        "    input_shape = (img_rows, img_cols, 1)\n",
        "x_train = x_train.astype('float32')\n",
        "x_test = x_test.astype('float32')\n",
        "x_train /= 255\n",
        "x_test /= 255\n",
        "print('x_train shape:', x_train.shape)\n",
        "print(\"Training samples: {}\".format(x_train.shape[0]))\n",
        "print(\"Test samples: {}\".format(x_test.shape[0]))\n",
        "# convert class vectors to binary class matrices\n",
        "y_train = tensorflow.keras.utils.to_categorical(y_train, num_classes)\n",
        "y_test = tensorflow.keras.utils.to_categorical(y_test, num_classes)\n",
        "model = Sequential()\n",
        "model.add(Conv2D(32, kernel_size=(3, 3),\n",
        "                 activation='relu',\n",
        "                 input_shape=input_shape))\n",
        "model.add(Conv2D(64, (3, 3), activation='relu'))\n",
        "model.add(MaxPooling2D(pool_size=(2, 2)))\n",
        "model.add(Dropout(0.25))\n",
        "model.add(Flatten())\n",
        "model.add(Dense(128, activation='relu'))\n",
        "model.add(Dropout(0.5))\n",
        "model.add(Dense(num_classes, activation='softmax'))\n",
        "model.compile(loss='categorical_crossentropy', optimizer='adam',\n",
        "              metrics=['accuracy'])"
      ],
      "execution_count": null,
      "outputs": [
        {
          "output_type": "stream",
          "text": [
            "x_train shape: (60000, 28, 28, 1)\n",
            "Training samples: 60000\n",
            "Test samples: 10000\n"
          ],
          "name": "stdout"
        }
      ]
    },
    {
      "cell_type": "code",
      "metadata": {
        "id": "PgaPFoEPUErB",
        "outputId": "227452c6-0032-4f4c-c4f7-30802642b90f",
        "colab": {
          "base_uri": "https://localhost:8080/"
        }
      },
      "source": [
        "\n",
        "import tensorflow as tf\n",
        "import time\n",
        "\n",
        "start_time = time.time()\n",
        "\n",
        "model.fit(x_train, y_train,\n",
        "          batch_size=batch_size,\n",
        "          epochs=epochs,\n",
        "          verbose=2,\n",
        "          validation_data=(x_test, y_test))\n",
        "score = model.evaluate(x_test, y_test, verbose=0)\n",
        "print('Test loss: {}'.format(score[0]))\n",
        "print('Test accuracy: {}'.format(score[1]))\n"
      ],
      "execution_count": null,
      "outputs": [
        {
          "output_type": "stream",
          "text": [
            "Epoch 1/12\n",
            "469/469 - 4s - loss: 0.0802 - accuracy: 0.9696 - val_loss: 0.2533 - val_accuracy: 0.9300\n",
            "Epoch 2/12\n",
            "469/469 - 4s - loss: 0.0760 - accuracy: 0.9708 - val_loss: 0.2783 - val_accuracy: 0.9304\n",
            "Epoch 3/12\n",
            "469/469 - 4s - loss: 0.0759 - accuracy: 0.9713 - val_loss: 0.2662 - val_accuracy: 0.9307\n",
            "Epoch 4/12\n",
            "469/469 - 4s - loss: 0.0731 - accuracy: 0.9718 - val_loss: 0.2724 - val_accuracy: 0.9289\n",
            "Epoch 5/12\n",
            "469/469 - 4s - loss: 0.0713 - accuracy: 0.9732 - val_loss: 0.2777 - val_accuracy: 0.9301\n",
            "Epoch 6/12\n",
            "469/469 - 4s - loss: 0.0718 - accuracy: 0.9726 - val_loss: 0.2837 - val_accuracy: 0.9287\n",
            "Epoch 7/12\n",
            "469/469 - 4s - loss: 0.0676 - accuracy: 0.9732 - val_loss: 0.2783 - val_accuracy: 0.9267\n",
            "Epoch 8/12\n",
            "469/469 - 4s - loss: 0.0646 - accuracy: 0.9750 - val_loss: 0.2817 - val_accuracy: 0.9299\n",
            "Epoch 9/12\n",
            "469/469 - 4s - loss: 0.0667 - accuracy: 0.9742 - val_loss: 0.2935 - val_accuracy: 0.9295\n",
            "Epoch 10/12\n",
            "469/469 - 4s - loss: 0.0635 - accuracy: 0.9758 - val_loss: 0.2975 - val_accuracy: 0.9297\n",
            "Epoch 11/12\n",
            "469/469 - 4s - loss: 0.0634 - accuracy: 0.9758 - val_loss: 0.2894 - val_accuracy: 0.9299\n",
            "Epoch 12/12\n",
            "469/469 - 4s - loss: 0.0617 - accuracy: 0.9758 - val_loss: 0.3124 - val_accuracy: 0.9289\n",
            "Test loss: 0.31241878867149353\n",
            "Test accuracy: 0.9289000034332275\n"
          ],
          "name": "stdout"
        }
      ]
    },
    {
      "cell_type": "markdown",
      "metadata": {
        "id": "1KyEZ7cZV8II"
      },
      "source": [
        "Digit Recognition with CNN"
      ]
    },
    {
      "cell_type": "code",
      "metadata": {
        "id": "TkGjaN1-UKjU",
        "outputId": "434fe66f-0333-46f8-d182-8762391d6c98",
        "colab": {
          "base_uri": "https://localhost:8080/"
        }
      },
      "source": [
        "import tensorflow.keras\n",
        "from tensorflow.keras.callbacks import EarlyStopping\n",
        "from tensorflow.keras.layers import Dense, Dropout\n",
        "from tensorflow.keras import regularizers\n",
        "from tensorflow.keras.datasets import mnist\n",
        "\n",
        "(x_train, y_train), (x_test, y_test) = mnist.load_data()\n",
        "print(\"Shape of x_train: {}\".format(x_train.shape))\n",
        "print(\"Shape of y_train: {}\".format(y_train.shape))\n",
        "print()\n",
        "print(\"Shape of x_test: {}\".format(x_test.shape))\n",
        "print(\"Shape of y_test: {}\".format(y_test.shape))"
      ],
      "execution_count": 9,
      "outputs": [
        {
          "output_type": "stream",
          "text": [
            "Downloading data from https://storage.googleapis.com/tensorflow/tf-keras-datasets/mnist.npz\n",
            "11493376/11490434 [==============================] - 0s 0us/step\n",
            "Shape of x_train: (60000, 28, 28)\n",
            "Shape of y_train: (60000,)\n",
            "\n",
            "Shape of x_test: (10000, 28, 28)\n",
            "Shape of y_test: (10000,)\n"
          ],
          "name": "stdout"
        }
      ]
    },
    {
      "cell_type": "code",
      "metadata": {
        "id": "QpCejgzGWEa_",
        "outputId": "be565d2b-7a0a-4939-bf21-0f56e4ef1568",
        "colab": {
          "base_uri": "https://localhost:8080/",
          "height": 284
        }
      },
      "source": [
        "from IPython.display import display\n",
        "import pandas as pd\n",
        "\n",
        "# Display as text\n",
        "pd.set_option('display.max_columns', 15)\n",
        "pd.set_option('display.max_rows', 5)\n",
        "\n",
        "print(\"Shape for dataset: {}\".format(x_train.shape))\n",
        "print(\"Labels: {}\".format(y_train))\n",
        "\n",
        "# Single MNIST digit\n",
        "single = x_train[0]\n",
        "print(\"Shape for single: {}\".format(single.shape))\n",
        "\n",
        "pd.DataFrame(single.reshape(28,28))"
      ],
      "execution_count": 10,
      "outputs": [
        {
          "output_type": "stream",
          "text": [
            "Shape for dataset: (60000, 28, 28)\n",
            "Labels: [5 0 4 ... 5 6 8]\n",
            "Shape for single: (28, 28)\n"
          ],
          "name": "stdout"
        },
        {
          "output_type": "execute_result",
          "data": {
            "text/html": [
              "<div>\n",
              "<style scoped>\n",
              "    .dataframe tbody tr th:only-of-type {\n",
              "        vertical-align: middle;\n",
              "    }\n",
              "\n",
              "    .dataframe tbody tr th {\n",
              "        vertical-align: top;\n",
              "    }\n",
              "\n",
              "    .dataframe thead th {\n",
              "        text-align: right;\n",
              "    }\n",
              "</style>\n",
              "<table border=\"1\" class=\"dataframe\">\n",
              "  <thead>\n",
              "    <tr style=\"text-align: right;\">\n",
              "      <th></th>\n",
              "      <th>0</th>\n",
              "      <th>1</th>\n",
              "      <th>2</th>\n",
              "      <th>3</th>\n",
              "      <th>4</th>\n",
              "      <th>5</th>\n",
              "      <th>6</th>\n",
              "      <th>...</th>\n",
              "      <th>21</th>\n",
              "      <th>22</th>\n",
              "      <th>23</th>\n",
              "      <th>24</th>\n",
              "      <th>25</th>\n",
              "      <th>26</th>\n",
              "      <th>27</th>\n",
              "    </tr>\n",
              "  </thead>\n",
              "  <tbody>\n",
              "    <tr>\n",
              "      <th>0</th>\n",
              "      <td>0</td>\n",
              "      <td>0</td>\n",
              "      <td>0</td>\n",
              "      <td>0</td>\n",
              "      <td>0</td>\n",
              "      <td>0</td>\n",
              "      <td>0</td>\n",
              "      <td>...</td>\n",
              "      <td>0</td>\n",
              "      <td>0</td>\n",
              "      <td>0</td>\n",
              "      <td>0</td>\n",
              "      <td>0</td>\n",
              "      <td>0</td>\n",
              "      <td>0</td>\n",
              "    </tr>\n",
              "    <tr>\n",
              "      <th>1</th>\n",
              "      <td>0</td>\n",
              "      <td>0</td>\n",
              "      <td>0</td>\n",
              "      <td>0</td>\n",
              "      <td>0</td>\n",
              "      <td>0</td>\n",
              "      <td>0</td>\n",
              "      <td>...</td>\n",
              "      <td>0</td>\n",
              "      <td>0</td>\n",
              "      <td>0</td>\n",
              "      <td>0</td>\n",
              "      <td>0</td>\n",
              "      <td>0</td>\n",
              "      <td>0</td>\n",
              "    </tr>\n",
              "    <tr>\n",
              "      <th>...</th>\n",
              "      <td>...</td>\n",
              "      <td>...</td>\n",
              "      <td>...</td>\n",
              "      <td>...</td>\n",
              "      <td>...</td>\n",
              "      <td>...</td>\n",
              "      <td>...</td>\n",
              "      <td>...</td>\n",
              "      <td>...</td>\n",
              "      <td>...</td>\n",
              "      <td>...</td>\n",
              "      <td>...</td>\n",
              "      <td>...</td>\n",
              "      <td>...</td>\n",
              "      <td>...</td>\n",
              "    </tr>\n",
              "    <tr>\n",
              "      <th>26</th>\n",
              "      <td>0</td>\n",
              "      <td>0</td>\n",
              "      <td>0</td>\n",
              "      <td>0</td>\n",
              "      <td>0</td>\n",
              "      <td>0</td>\n",
              "      <td>0</td>\n",
              "      <td>...</td>\n",
              "      <td>0</td>\n",
              "      <td>0</td>\n",
              "      <td>0</td>\n",
              "      <td>0</td>\n",
              "      <td>0</td>\n",
              "      <td>0</td>\n",
              "      <td>0</td>\n",
              "    </tr>\n",
              "    <tr>\n",
              "      <th>27</th>\n",
              "      <td>0</td>\n",
              "      <td>0</td>\n",
              "      <td>0</td>\n",
              "      <td>0</td>\n",
              "      <td>0</td>\n",
              "      <td>0</td>\n",
              "      <td>0</td>\n",
              "      <td>...</td>\n",
              "      <td>0</td>\n",
              "      <td>0</td>\n",
              "      <td>0</td>\n",
              "      <td>0</td>\n",
              "      <td>0</td>\n",
              "      <td>0</td>\n",
              "      <td>0</td>\n",
              "    </tr>\n",
              "  </tbody>\n",
              "</table>\n",
              "<p>28 rows × 28 columns</p>\n",
              "</div>"
            ],
            "text/plain": [
              "    0   1   2   3   4   5   6   ...  21  22  23  24  25  26  27\n",
              "0    0   0   0   0   0   0   0  ...   0   0   0   0   0   0   0\n",
              "1    0   0   0   0   0   0   0  ...   0   0   0   0   0   0   0\n",
              "..  ..  ..  ..  ..  ..  ..  ..  ...  ..  ..  ..  ..  ..  ..  ..\n",
              "26   0   0   0   0   0   0   0  ...   0   0   0   0   0   0   0\n",
              "27   0   0   0   0   0   0   0  ...   0   0   0   0   0   0   0\n",
              "\n",
              "[28 rows x 28 columns]"
            ]
          },
          "metadata": {
            "tags": []
          },
          "execution_count": 10
        }
      ]
    },
    {
      "cell_type": "code",
      "metadata": {
        "id": "eXQgBdRiWHXB",
        "outputId": "35f5e301-0ea8-42d1-d626-d68b4ef35e56",
        "colab": {
          "base_uri": "https://localhost:8080/",
          "height": 282
        }
      },
      "source": [
        "# Display as image\n",
        "%matplotlib inline\n",
        "import matplotlib.pyplot as plt\n",
        "import numpy as np\n",
        "digit = 111 # Change to choose new digit\n",
        "a = x_train[digit]\n",
        "plt.imshow(a, cmap='gray', interpolation='nearest')\n",
        "print(\"Image (#{}): Which is digit '{}'\".format(digit,y_train[digit]))"
      ],
      "execution_count": 13,
      "outputs": [
        {
          "output_type": "stream",
          "text": [
            "Image (#111): Which is digit '3'\n"
          ],
          "name": "stdout"
        },
        {
          "output_type": "display_data",
          "data": {
            "image/png": "[encoded data removed]",
            "text/plain": [
              "<Figure size 432x288 with 1 Axes>"
            ]
          },
          "metadata": {
            "tags": [],
            "needs_background": "light"
          }
        }
      ]
    },
    {
      "cell_type": "code",
      "metadata": {
        "id": "weBsB8-FWKJ6",
        "outputId": "638c06e7-12f2-4f37-a5e6-42758034b4bf",
        "colab": {
          "base_uri": "https://localhost:8080/",
          "height": 458
        }
      },
      "source": [
        "import random\n",
        "\n",
        "ROWS = 6\n",
        "random_indices = random.sample(range(x_train.shape[0]), ROWS*ROWS)\n",
        "\n",
        "sample_images = x_train[random_indices, :]\n",
        "\n",
        "plt.clf()\n",
        "\n",
        "fig, axes = plt.subplots(ROWS,ROWS, \n",
        "                         figsize=(ROWS,ROWS),\n",
        "                         sharex=True, sharey=True) \n",
        "\n",
        "for i in range(ROWS*ROWS):\n",
        "    subplot_row = i//ROWS \n",
        "    subplot_col = i%ROWS\n",
        "    ax = axes[subplot_row, subplot_col]\n",
        "\n",
        "    plottable_image = np.reshape(sample_images[i,:], (28,28))\n",
        "    ax.imshow(plottable_image, cmap='gray_r')\n",
        "    \n",
        "    ax.set_xbound([0,28])\n",
        "\n",
        "plt.tight_layout()\n",
        "plt.show()"
      ],
      "execution_count": 14,
      "outputs": [
        {
          "output_type": "display_data",
          "data": {
            "text/plain": [
              "<Figure size 432x288 with 0 Axes>"
            ]
          },
          "metadata": {
            "tags": []
          }
        },
        {
          "output_type": "display_data",
          "data": {
            "image/png": "[encoded data removed]",
            "text/plain": [
              "<Figure size 432x432 with 36 Axes>"
            ]
          },
          "metadata": {
            "tags": [],
            "needs_background": "light"
          }
        }
      ]
    },
    {
      "cell_type": "code",
      "metadata": {
        "id": "9f1aqqcJWQLS",
        "outputId": "a57f7ba9-bb33-4107-fb95-fefa61d0d517",
        "colab": {
          "base_uri": "https://localhost:8080/"
        }
      },
      "source": [
        "import tensorflow.keras\n",
        "from tensorflow.keras.datasets import mnist\n",
        "from tensorflow.keras.models import Sequential\n",
        "from tensorflow.keras.layers import Dense, Dropout, Flatten\n",
        "from tensorflow.keras.layers import Conv2D, MaxPooling2D\n",
        "from tensorflow.keras import backend as K\n",
        "batch_size = 128\n",
        "num_classes = 10\n",
        "epochs = 12\n",
        "# input image dimensions\n",
        "img_rows, img_cols = 28, 28\n",
        "if K.image_data_format() == 'channels_first':\n",
        "    x_train = x_train.reshape(x_train.shape[0], 1, img_rows, img_cols)\n",
        "    x_test = x_test.reshape(x_test.shape[0], 1, img_rows, img_cols)\n",
        "    input_shape = (1, img_rows, img_cols)\n",
        "else:\n",
        "    x_train = x_train.reshape(x_train.shape[0], img_rows, img_cols, 1)\n",
        "    x_test = x_test.reshape(x_test.shape[0], img_rows, img_cols, 1)\n",
        "    input_shape = (img_rows, img_cols, 1)\n",
        "x_train = x_train.astype('float32')\n",
        "x_test = x_test.astype('float32')\n",
        "x_train /= 255\n",
        "x_test /= 255\n",
        "print('x_train shape:', x_train.shape)\n",
        "print(\"Training samples: {}\".format(x_train.shape[0]))\n",
        "print(\"Test samples: {}\".format(x_test.shape[0]))\n",
        "# convert class vectors to binary class matrices\n",
        "y_train = tensorflow.keras.utils.to_categorical(y_train, num_classes)\n",
        "y_test = tensorflow.keras.utils.to_categorical(y_test, num_classes)\n",
        "model = Sequential()\n",
        "model.add(Conv2D(32, kernel_size=(3, 3),\n",
        "                 activation='relu',\n",
        "                 input_shape=input_shape))\n",
        "model.add(Conv2D(64, (3, 3), activation='relu'))\n",
        "model.add(MaxPooling2D(pool_size=(2, 2)))\n",
        "model.add(Dropout(0.25))\n",
        "model.add(Flatten())\n",
        "model.add(Dense(128, activation='relu'))\n",
        "model.add(Dropout(0.5))\n",
        "model.add(Dense(num_classes, activation='softmax'))\n",
        "model.compile(loss='categorical_crossentropy', optimizer='adam',\n",
        "              metrics=['accuracy'])\n"
      ],
      "execution_count": 15,
      "outputs": [
        {
          "output_type": "stream",
          "text": [
            "x_train shape: (60000, 28, 28, 1)\n",
            "Training samples: 60000\n",
            "Test samples: 10000\n"
          ],
          "name": "stdout"
        }
      ]
    },
    {
      "cell_type": "code",
      "metadata": {
        "id": "LtjcHoJEWiZ-",
        "outputId": "52d0de41-9d09-4064-e9ae-2d920cdd2a60",
        "colab": {
          "base_uri": "https://localhost:8080/"
        }
      },
      "source": [
        "import tensorflow as tf\n",
        "import time\n",
        "\n",
        "start_time = time.time()\n",
        "\n",
        "model.fit(x_train, y_train,\n",
        "          batch_size=batch_size,\n",
        "          epochs=epochs,\n",
        "          verbose=2,\n",
        "          validation_data=(x_test, y_test))\n",
        "score = model.evaluate(x_test, y_test, verbose=0)\n",
        "print('Test loss: {}'.format(score[0]))\n",
        "print('Test accuracy: {}'.format(score[1]))"
      ],
      "execution_count": 16,
      "outputs": [
        {
          "output_type": "stream",
          "text": [
            "Epoch 1/12\n",
            "469/469 - 4s - loss: 0.2211 - accuracy: 0.9327 - val_loss: 0.0506 - val_accuracy: 0.9831\n",
            "Epoch 2/12\n",
            "469/469 - 4s - loss: 0.0801 - accuracy: 0.9758 - val_loss: 0.0375 - val_accuracy: 0.9875\n",
            "Epoch 3/12\n",
            "469/469 - 4s - loss: 0.0578 - accuracy: 0.9818 - val_loss: 0.0295 - val_accuracy: 0.9904\n",
            "Epoch 4/12\n",
            "469/469 - 4s - loss: 0.0462 - accuracy: 0.9855 - val_loss: 0.0289 - val_accuracy: 0.9901\n",
            "Epoch 5/12\n",
            "469/469 - 4s - loss: 0.0403 - accuracy: 0.9875 - val_loss: 0.0250 - val_accuracy: 0.9921\n",
            "Epoch 6/12\n",
            "469/469 - 4s - loss: 0.0359 - accuracy: 0.9887 - val_loss: 0.0264 - val_accuracy: 0.9918\n",
            "Epoch 7/12\n",
            "469/469 - 4s - loss: 0.0328 - accuracy: 0.9892 - val_loss: 0.0236 - val_accuracy: 0.9932\n",
            "Epoch 8/12\n",
            "469/469 - 4s - loss: 0.0273 - accuracy: 0.9912 - val_loss: 0.0222 - val_accuracy: 0.9929\n",
            "Epoch 9/12\n",
            "469/469 - 4s - loss: 0.0257 - accuracy: 0.9919 - val_loss: 0.0236 - val_accuracy: 0.9925\n",
            "Epoch 10/12\n",
            "469/469 - 4s - loss: 0.0230 - accuracy: 0.9923 - val_loss: 0.0248 - val_accuracy: 0.9934\n",
            "Epoch 11/12\n",
            "469/469 - 4s - loss: 0.0219 - accuracy: 0.9926 - val_loss: 0.0265 - val_accuracy: 0.9925\n",
            "Epoch 12/12\n",
            "469/469 - 3s - loss: 0.0199 - accuracy: 0.9933 - val_loss: 0.0244 - val_accuracy: 0.9934\n",
            "Test loss: 0.024428334087133408\n",
            "Test accuracy: 0.993399977684021\n"
          ],
          "name": "stdout"
        }
      ]
    },
    {
      "cell_type": "code",
      "metadata": {
        "id": "Kw_sf_oEWmyB",
        "outputId": "05b04ebe-f4fe-4466-b690-eb5e7985704b",
        "colab": {
          "base_uri": "https://localhost:8080/"
        }
      },
      "source": [
        "\n",
        "# Predict using either GPU or CPU, send the entire dataset.  This might not work on the GPU.\n",
        "# Set the desired TensorFlow output level for this example\n",
        "score = model.evaluate(x_test, y_test, verbose=0)\n",
        "print('Test loss: {}'.format(score[0]))\n",
        "print('Test accuracy: {}'.format(score[1]))"
      ],
      "execution_count": 18,
      "outputs": [
        {
          "output_type": "stream",
          "text": [
            "Test loss: 0.024428334087133408\n",
            "Test accuracy: 0.993399977684021\n"
          ],
          "name": "stdout"
        }
      ]
    },
    {
      "cell_type": "code",
      "metadata": {
        "id": "qWxTmuaWW2UW",
        "outputId": "81840315-9a3f-4ec3-dc86-2727afe197f9",
        "colab": {
          "base_uri": "https://localhost:8080/"
        }
      },
      "source": [
        "from sklearn import metrics\n",
        "\n",
        "# For GPU just grab the first 100 images\n",
        "small_x = x_test[1:100]\n",
        "small_y = y_test[1:100]\n",
        "small_y2 = np.argmax(small_y,axis=1)\n",
        "pred = model.predict(small_x)\n",
        "pred = np.argmax(pred,axis=1)\n",
        "score = metrics.accuracy_score(small_y2, pred)\n",
        "print('Accuracy: {}'.format(score))"
      ],
      "execution_count": 19,
      "outputs": [
        {
          "output_type": "stream",
          "text": [
            "Accuracy: 1.0\n"
          ],
          "name": "stdout"
        }
      ]
    },
    {
      "cell_type": "code",
      "metadata": {
        "id": "GT1OgOPkW_AL"
      },
      "source": [
        ""
      ],
      "execution_count": null,
      "outputs": []
    }
  ]
}