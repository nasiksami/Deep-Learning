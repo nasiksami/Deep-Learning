{
  "nbformat": 4,
  "nbformat_minor": 0,
  "metadata": {
    "colab": {
      "name": "STYLEGAN2 FACE GENERATOR.ipynb",
      "provenance": [],
      "authorship_tag": "ABX9TyMyfB51xbi4H9I3tq4SlPJO",
      "include_colab_link": true
    },
    "kernelspec": {
      "name": "python3",
      "display_name": "Python 3"
    },
    "accelerator": "GPU"
  },
  "cells": [
    {
      "cell_type": "markdown",
      "metadata": {
        "id": "view-in-github",
        "colab_type": "text"
      },
      "source": [
        "<a href=\"https://colab.research.google.com/github/nasiksami/Deep-Learning/blob/main/STYLEGAN2_FACE_GENERATOR.ipynb\" target=\"_parent\"><img src=\"https://colab.research.google.com/assets/colab-badge.svg\" alt=\"Open In Colab\"/></a>"
      ]
    },
    {
      "cell_type": "code",
      "metadata": {
        "colab": {
          "base_uri": "https://localhost:8080/"
        },
        "id": "g-LWQPSJ3Uaw",
        "outputId": "3be9a37d-e1ba-40ee-d2c7-fa70e92cb00f"
      },
      "source": [
        "\n",
        "# Run this for Google CoLab (use TensorFlow 1.x)\n",
        "%tensorflow_version 1.x\n",
        "from google.colab import drive\n",
        "drive.mount('/content/drive', force_remount=True)"
      ],
      "execution_count": null,
      "outputs": [
        {
          "output_type": "stream",
          "text": [
            "TensorFlow 1.x selected.\n",
            "Mounted at /content/drive\n"
          ],
          "name": "stdout"
        }
      ]
    },
    {
      "cell_type": "code",
      "metadata": {
        "colab": {
          "base_uri": "https://localhost:8080/"
        },
        "id": "suiuZUMa5l_m",
        "outputId": "e24446db-04ac-425b-aed5-19b7949ab71c"
      },
      "source": [
        "\n",
        "!git clone https://github.com/NVlabs/stylegan2.git"
      ],
      "execution_count": null,
      "outputs": [
        {
          "output_type": "stream",
          "text": [
            "Cloning into 'stylegan2'...\n",
            "remote: Enumerating objects: 122, done.\u001b[K\n",
            "remote: Total 122 (delta 0), reused 0 (delta 0), pack-reused 122\u001b[K\n",
            "Receiving objects: 100% (122/122), 590.23 KiB | 23.61 MiB/s, done.\n",
            "Resolving deltas: 100% (55/55), done.\n"
          ],
          "name": "stdout"
        }
      ]
    },
    {
      "cell_type": "code",
      "metadata": {
        "colab": {
          "base_uri": "https://localhost:8080/"
        },
        "id": "RAJO_HSS5uRR",
        "outputId": "b33819b1-dbbf-4d86-98fd-a152018e1c72"
      },
      "source": [
        "\n",
        "!ls /content/stylegan2/"
      ],
      "execution_count": null,
      "outputs": [
        {
          "output_type": "stream",
          "text": [
            "dataset_tool.py  LICENSE.txt\t\t README.md\t   run_training.py\n",
            "dnnlib\t\t metrics\t\t run_generator.py  test_nvcc.cu\n",
            "Dockerfile\t pretrained_networks.py  run_metrics.py    training\n",
            "docs\t\t projector.py\t\t run_projector.py\n"
          ],
          "name": "stdout"
        }
      ]
    },
    {
      "cell_type": "code",
      "metadata": {
        "colab": {
          "base_uri": "https://localhost:8080/"
        },
        "id": "FkVEHYcE5yDw",
        "outputId": "16f8356d-9b36-4fae-dc66-7b27477c697b"
      },
      "source": [
        "!python /content/stylegan2/run_generator.py generate-images \\\n",
        "    --network=gdrive:networks/stylegan2-ffhq-config-f.pkl \\\n",
        "  --seeds=6600-6625 --truncation-psi=0.5"
      ],
      "execution_count": null,
      "outputs": [
        {
          "output_type": "stream",
          "text": [
            "Local submit - run_dir: results/00000-generate-images\n",
            "dnnlib: Running run_generator.generate_images() on localhost...\n",
            "Loading networks from \"gdrive:networks/stylegan2-ffhq-config-f.pkl\"...\n",
            "Downloading https://nvlabs-fi-cdn.nvidia.com/stylegan2/networks/stylegan2-ffhq-config-f.pkl ... done\n",
            "Setting up TensorFlow plugin \"fused_bias_act.cu\": Preprocessing... Compiling... Loading... Done.\n",
            "Setting up TensorFlow plugin \"upfirdn_2d.cu\": Preprocessing... Compiling... Loading... Done.\n",
            "Generating image for seed 6600 (0/26) ...\n",
            "Generating image for seed 6601 (1/26) ...\n",
            "Generating image for seed 6602 (2/26) ...\n",
            "Generating image for seed 6603 (3/26) ...\n",
            "Generating image for seed 6604 (4/26) ...\n",
            "Generating image for seed 6605 (5/26) ...\n",
            "Generating image for seed 6606 (6/26) ...\n",
            "Generating image for seed 6607 (7/26) ...\n",
            "Generating image for seed 6608 (8/26) ...\n",
            "Generating image for seed 6609 (9/26) ...\n",
            "Generating image for seed 6610 (10/26) ...\n",
            "Generating image for seed 6611 (11/26) ...\n",
            "Generating image for seed 6612 (12/26) ...\n",
            "Generating image for seed 6613 (13/26) ...\n",
            "Generating image for seed 6614 (14/26) ...\n",
            "Generating image for seed 6615 (15/26) ...\n",
            "Generating image for seed 6616 (16/26) ...\n",
            "Generating image for seed 6617 (17/26) ...\n",
            "Generating image for seed 6618 (18/26) ...\n",
            "Generating image for seed 6619 (19/26) ...\n",
            "Generating image for seed 6620 (20/26) ...\n",
            "Generating image for seed 6621 (21/26) ...\n",
            "Generating image for seed 6622 (22/26) ...\n",
            "Generating image for seed 6623 (23/26) ...\n",
            "Generating image for seed 6624 (24/26) ...\n",
            "Generating image for seed 6625 (25/26) ...\n",
            "dnnlib: Finished run_generator.generate_images() in 1m 21s.\n"
          ],
          "name": "stdout"
        }
      ]
    },
    {
      "cell_type": "code",
      "metadata": {
        "colab": {
          "base_uri": "https://localhost:8080/"
        },
        "id": "OCtPWg4P52xn",
        "outputId": "15d2734f-f622-4ec6-c972-889603629349"
      },
      "source": [
        "!ls /content/results/00000-generate-images"
      ],
      "execution_count": null,
      "outputs": [
        {
          "output_type": "stream",
          "text": [
            "_finished.txt  seed6604.png  seed6611.png  seed6618.png  seed6625.png\n",
            "log.txt        seed6605.png  seed6612.png  seed6619.png  submit_config.pkl\n",
            "run.txt        seed6606.png  seed6613.png  seed6620.png  submit_config.txt\n",
            "seed6600.png   seed6607.png  seed6614.png  seed6621.png\n",
            "seed6601.png   seed6608.png  seed6615.png  seed6622.png\n",
            "seed6602.png   seed6609.png  seed6616.png  seed6623.png\n",
            "seed6603.png   seed6610.png  seed6617.png  seed6624.png\n"
          ],
          "name": "stdout"
        }
      ]
    },
    {
      "cell_type": "code",
      "metadata": {
        "id": "6lLpllae6RNh"
      },
      "source": [
        "cp /content/results/00000-generate-images/* \\\n",
        "    /content/drive/My\\ Drive/pics"
      ],
      "execution_count": null,
      "outputs": []
    },
    {
      "cell_type": "code",
      "metadata": {
        "colab": {
          "base_uri": "https://localhost:8080/"
        },
        "id": "ZBh5hqip6sRv",
        "outputId": "7e8389b5-47ca-4e03-cb02-694c18f3f7f0"
      },
      "source": [
        "\n",
        "!python /content/stylegan2/run_generator.py style-mixing-example \\\n",
        "    --network=gdrive:networks/stylegan2-ffhq-config-f.pkl \\\n",
        "  --row-seeds=85,100,75,458,1500 --col-seeds=55,821,1789,293 \\\n",
        "    --truncation-psi=1.0"
      ],
      "execution_count": null,
      "outputs": [
        {
          "output_type": "stream",
          "text": [
            "Local submit - run_dir: results/00001-style-mixing-example\n",
            "dnnlib: Running run_generator.style_mixing_example() on localhost...\n",
            "Loading networks from \"gdrive:networks/stylegan2-ffhq-config-f.pkl\"...\n",
            "Setting up TensorFlow plugin \"fused_bias_act.cu\": Preprocessing... Loading... Done.\n",
            "Setting up TensorFlow plugin \"upfirdn_2d.cu\": Preprocessing... Loading... Done.\n",
            "Generating W vectors...\n",
            "Generating images...\n",
            "Generating style-mixed images...\n",
            "Saving images...\n",
            "Saving image grid...\n",
            "dnnlib: Finished run_generator.style_mixing_example() in 53s.\n"
          ],
          "name": "stdout"
        }
      ]
    },
    {
      "cell_type": "markdown",
      "metadata": {
        "id": "3rT7ZXLQ7shU"
      },
      "source": [
        "**Running StyleGAN2 From Python Code**"
      ]
    },
    {
      "cell_type": "code",
      "metadata": {
        "id": "m3h1VAGs7dpD"
      },
      "source": [
        "import sys\n",
        "sys.path.insert(0, \"/content/stylegan2\")\n",
        "\n",
        "import dnnlib"
      ],
      "execution_count": null,
      "outputs": []
    },
    {
      "cell_type": "code",
      "metadata": {
        "id": "KC-8TLIS70tJ"
      },
      "source": [
        "# Copyright (c) 2019, NVIDIA Corporation. All rights reserved.\n",
        "#\n",
        "# This work is made available under the Nvidia Source Code License-NC.\n",
        "# To view a copy of this license, visit\n",
        "# https://nvlabs.github.io/stylegan2/license.html\n",
        "\n",
        "import argparse\n",
        "import numpy as np\n",
        "import PIL.Image\n",
        "import dnnlib\n",
        "import dnnlib.tflib as tflib\n",
        "import re\n",
        "import sys\n",
        "\n",
        "import pretrained_networks"
      ],
      "execution_count": null,
      "outputs": []
    },
    {
      "cell_type": "code",
      "metadata": {
        "id": "NxbjgHKT75bw"
      },
      "source": [
        "def expand_seed(seeds, vector_size):\n",
        "  result = []\n",
        "\n",
        "  for seed in seeds:\n",
        "    rnd = np.random.RandomState(seed)\n",
        "    result.append( rnd.randn(1, vector_size) ) \n",
        "  return result\n",
        "\n",
        "def generate_images(Gs, seeds, truncation_psi):\n",
        "    noise_vars = [var for name, var in \\\n",
        "                  Gs.components.synthesis.vars.items() \\\n",
        "                  if name.startswith('noise')]\n",
        "\n",
        "    Gs_kwargs = dnnlib.EasyDict()\n",
        "    Gs_kwargs.output_transform = dict(func= \\\n",
        "        tflib.convert_images_to_uint8, nchw_to_nhwc=True)\n",
        "    Gs_kwargs.randomize_noise = False\n",
        "    if truncation_psi is not None:\n",
        "        Gs_kwargs.truncation_psi = truncation_psi\n",
        "\n",
        "    for seed_idx, seed in enumerate(seeds):\n",
        "        print('Generating image for seed %d/%d ...' % (seed_idx, len(seeds)))\n",
        "        rnd = np.random.RandomState()\n",
        "        tflib.set_vars({var: rnd.randn(*var.shape.as_list()) \\\n",
        "                        for var in noise_vars}) # [height, width]\n",
        "        images = Gs.run(seed, None, **Gs_kwargs) \n",
        "        # [minibatch, height, width, channel]\n",
        "        path = f\"/content/drive/My Drive/pics/\"+\\\n",
        "                f\"/image{seed_idx}.png\"\n",
        "        PIL.Image.fromarray(images[0], 'RGB').save(path)\n",
        "\n",
        "def main():\n",
        "    sc = dnnlib.SubmitConfig()\n",
        "    sc.num_gpus = 1\n",
        "    sc.submit_target = dnnlib.SubmitTarget.LOCAL\n",
        "    sc.local.do_not_copy_source_files = True\n",
        "    sc.run_dir_root = \"/content/drive/My Drive/pics\"\n",
        "    sc.run_desc = 'generate-images'\n",
        "    network_pkl = 'gdrive:networks/stylegan2-ffhq-config-f.pkl'\n",
        "\n",
        "    print('Loading networks from \"%s\"...' % network_pkl)\n",
        "    _G, _D, Gs = pretrained_networks.load_networks(network_pkl)\n",
        "    vector_size = Gs.input_shape[1:][0]\n",
        "    seeds = expand_seed( range(8000,8020), vector_size)\n",
        "    generate_images(Gs, seeds,truncation_psi=0.5)"
      ],
      "execution_count": null,
      "outputs": []
    },
    {
      "cell_type": "code",
      "metadata": {
        "colab": {
          "base_uri": "https://localhost:8080/"
        },
        "id": "twm8cyWx79pn",
        "outputId": "56c7e3bc-981f-43f0-c313-0135760131d1"
      },
      "source": [
        "if __name__ == \"__main__\":\n",
        "    main()\n"
      ],
      "execution_count": null,
      "outputs": [
        {
          "output_type": "stream",
          "text": [
            "Loading networks from \"gdrive:networks/stylegan2-ffhq-config-f.pkl\"...\n",
            "Generating image for seed 0/20 ...\n",
            "Generating image for seed 1/20 ...\n",
            "Generating image for seed 2/20 ...\n",
            "Generating image for seed 3/20 ...\n",
            "Generating image for seed 4/20 ...\n",
            "Generating image for seed 5/20 ...\n",
            "Generating image for seed 6/20 ...\n",
            "Generating image for seed 7/20 ...\n",
            "Generating image for seed 8/20 ...\n",
            "Generating image for seed 9/20 ...\n",
            "Generating image for seed 10/20 ...\n",
            "Generating image for seed 11/20 ...\n",
            "Generating image for seed 12/20 ...\n",
            "Generating image for seed 13/20 ...\n",
            "Generating image for seed 14/20 ...\n",
            "Generating image for seed 15/20 ...\n",
            "Generating image for seed 16/20 ...\n",
            "Generating image for seed 17/20 ...\n",
            "Generating image for seed 18/20 ...\n",
            "Generating image for seed 19/20 ...\n"
          ],
          "name": "stdout"
        }
      ]
    },
    {
      "cell_type": "markdown",
      "metadata": {
        "id": "3IYwzXyI8XFV"
      },
      "source": [
        "**Examining the Latent Vector**"
      ]
    },
    {
      "cell_type": "code",
      "metadata": {
        "colab": {
          "base_uri": "https://localhost:8080/"
        },
        "id": "cnIynGRw7_ie",
        "outputId": "c06deb76-6423-4b55-ca35-f3308129940c"
      },
      "source": [
        "\n",
        "sc = dnnlib.SubmitConfig()\n",
        "sc.num_gpus = 1\n",
        "sc.submit_target = dnnlib.SubmitTarget.LOCAL\n",
        "sc.local.do_not_copy_source_files = True\n",
        "sc.run_dir_root = \"/content/drive/My Drive/projects/stylegan2\"\n",
        "sc.run_desc = 'generate-images'\n",
        "network_pkl = 'gdrive:networks/stylegan2-ffhq-config-f.pkl'\n",
        "\n",
        "print('Loading networks from \"%s\"...' % network_pkl)\n",
        "_G, _D, Gs = pretrained_networks.load_networks(network_pkl)\n",
        "vector_size = Gs.input_shape[1:][0]\n",
        "# range(8192,8300)\n",
        "seeds = expand_seed( [8192+1,8192+9], vector_size)\n",
        "#generate_images(Gs, seeds,truncation_psi=0.5)\n",
        "print(seeds[0].shape)"
      ],
      "execution_count": null,
      "outputs": [
        {
          "output_type": "stream",
          "text": [
            "Loading networks from \"gdrive:networks/stylegan2-ffhq-config-f.pkl\"...\n",
            "(1, 512)\n"
          ],
          "name": "stdout"
        }
      ]
    },
    {
      "cell_type": "code",
      "metadata": {
        "id": "Z-yN4jXw8a5h"
      },
      "source": [
        "STEPS = 300\n",
        "diff = seeds[1] - seeds[0]\n",
        "step = diff / STEPS\n",
        "current = seeds[0].copy()\n",
        "\n",
        "seeds2 = []\n",
        "for i in range(STEPS):\n",
        "  seeds2.append(current)\n",
        "  current = current + step\n",
        "\n",
        "generate_images(Gs, seeds2,truncation_psi=0.5)"
      ],
      "execution_count": null,
      "outputs": []
    },
    {
      "cell_type": "code",
      "metadata": {
        "id": "_gPqxtPO9-o4"
      },
      "source": [
        ""
      ],
      "execution_count": null,
      "outputs": []
    },
    {
      "cell_type": "code",
      "metadata": {
        "id": "225qxZVu9-nV"
      },
      "source": [
        ""
      ],
      "execution_count": null,
      "outputs": []
    },
    {
      "cell_type": "code",
      "metadata": {
        "id": "PjersBFO9-gG"
      },
      "source": [
        "def expand_seed(seeds, vector_size):\n",
        "  result = []\n",
        "\n",
        "  for seed in seeds:\n",
        "    rnd = np.random.RandomState(seed)\n",
        "    result.append( rnd.randn(1, vector_size) ) \n",
        "  return result\n",
        "\n",
        "def generate_images(Gs, seeds, truncation_psi):\n",
        "    noise_vars = [var for name, var in \\\n",
        "                  Gs.components.synthesis.vars.items() \\\n",
        "                  if name.startswith('noise')]\n",
        "\n",
        "    Gs_kwargs = dnnlib.EasyDict()\n",
        "    Gs_kwargs.output_transform = dict(func= \\\n",
        "        tflib.convert_images_to_uint8, nchw_to_nhwc=True)\n",
        "    Gs_kwargs.randomize_noise = False\n",
        "    if truncation_psi is not None:\n",
        "        Gs_kwargs.truncation_psi = truncation_psi\n",
        "\n",
        "    for seed_idx, seed in enumerate(seeds):\n",
        "        print('Generating image for seed %d/%d ...' % (seed_idx, len(seeds)))\n",
        "        rnd = np.random.RandomState()\n",
        "        tflib.set_vars({var: rnd.randn(*var.shape.as_list()) \\\n",
        "                        for var in noise_vars}) # [height, width]\n",
        "        images = Gs.run(seed, None, **Gs_kwargs) \n",
        "        # [minibatch, height, width, channel]\n",
        "        path = f\"/content/drive/My Drive/pics/\"+\\\n",
        "                f\"/pic{seed_idx}.png\"\n",
        "        PIL.Image.fromarray(images[0], 'RGB').save(path)\n",
        "\n",
        "def main():\n",
        "    sc = dnnlib.SubmitConfig()\n",
        "    sc.num_gpus = 1\n",
        "    sc.submit_target = dnnlib.SubmitTarget.LOCAL\n",
        "    sc.local.do_not_copy_source_files = True\n",
        "    sc.run_dir_root = \"/content/drive/My Drive/pics\"\n",
        "    sc.run_desc = 'generate-images'\n",
        "    network_pkl = 'gdrive:networks/stylegan2-ffhq-config-f.pkl'\n",
        "\n",
        "    print('Loading networks from \"%s\"...' % network_pkl)\n",
        "    _G, _D, Gs = pretrained_networks.load_networks(network_pkl)\n",
        "    vector_size = Gs.input_shape[1:][0]\n",
        "    seeds = expand_seed( range(8000,8020), vector_size)\n",
        "    generate_images(Gs, seeds,truncation_psi=0.5)"
      ],
      "execution_count": null,
      "outputs": []
    },
    {
      "cell_type": "code",
      "metadata": {
        "colab": {
          "base_uri": "https://localhost:8080/"
        },
        "id": "TcX7oa0I-JCg",
        "outputId": "c232eff0-1b18-416d-ac61-51d095c5eeaa"
      },
      "source": [
        "if __name__ == \"__main__\":\n",
        "    main()"
      ],
      "execution_count": null,
      "outputs": [
        {
          "output_type": "stream",
          "text": [
            "Loading networks from \"gdrive:networks/stylegan2-ffhq-config-f.pkl\"...\n",
            "Generating image for seed 0/20 ...\n",
            "Generating image for seed 1/20 ...\n",
            "Generating image for seed 2/20 ...\n",
            "Generating image for seed 3/20 ...\n",
            "Generating image for seed 4/20 ...\n",
            "Generating image for seed 5/20 ...\n",
            "Generating image for seed 6/20 ...\n",
            "Generating image for seed 7/20 ...\n",
            "Generating image for seed 8/20 ...\n",
            "Generating image for seed 9/20 ...\n",
            "Generating image for seed 10/20 ...\n",
            "Generating image for seed 11/20 ...\n",
            "Generating image for seed 12/20 ...\n",
            "Generating image for seed 13/20 ...\n",
            "Generating image for seed 14/20 ...\n",
            "Generating image for seed 15/20 ...\n",
            "Generating image for seed 16/20 ...\n",
            "Generating image for seed 17/20 ...\n",
            "Generating image for seed 18/20 ...\n",
            "Generating image for seed 19/20 ...\n"
          ],
          "name": "stdout"
        }
      ]
    },
    {
      "cell_type": "code",
      "metadata": {
        "colab": {
          "base_uri": "https://localhost:8080/"
        },
        "id": "H1j6XCxr-Q0W",
        "outputId": "2e6b9330-aabe-4619-87c3-ae2875662003"
      },
      "source": [
        "\n",
        "sc = dnnlib.SubmitConfig()\n",
        "sc.num_gpus = 1\n",
        "sc.submit_target = dnnlib.SubmitTarget.LOCAL\n",
        "sc.local.do_not_copy_source_files = True\n",
        "sc.run_dir_root = \"/content/drive/My Drive/pics\"\n",
        "sc.run_desc = 'generate-images'\n",
        "network_pkl = 'gdrive:networks/stylegan2-ffhq-config-f.pkl'\n",
        "\n",
        "print('Loading networks from \"%s\"...' % network_pkl)\n",
        "_G, _D, Gs = pretrained_networks.load_networks(network_pkl)\n",
        "vector_size = Gs.input_shape[1:][0]\n",
        "# range(8000,8143)\n",
        "seeds = expand_seed( [8000+1,8092+9], vector_size)\n",
        "#generate_images(Gs, seeds,truncation_psi=0.6)\n",
        "print(seeds[0].shape)"
      ],
      "execution_count": null,
      "outputs": [
        {
          "output_type": "stream",
          "text": [
            "Loading networks from \"gdrive:networks/stylegan2-ffhq-config-f.pkl\"...\n",
            "(1, 512)\n"
          ],
          "name": "stdout"
        }
      ]
    },
    {
      "cell_type": "code",
      "metadata": {
        "colab": {
          "base_uri": "https://localhost:8080/"
        },
        "id": "bS0jpVE0-7xU",
        "outputId": "16c1884d-30fa-4cb8-b9a8-fd768ab956f3"
      },
      "source": [
        "STEPS = 50\n",
        "diff = seeds[1] - seeds[0]\n",
        "step = diff / STEPS\n",
        "current = seeds[0].copy()\n",
        "\n",
        "seeds2 = []\n",
        "for i in range(STEPS):\n",
        "  seeds2.append(current)\n",
        "  current = current + step\n",
        "\n",
        "generate_images(Gs, seeds2,truncation_psi=0.6)"
      ],
      "execution_count": null,
      "outputs": [
        {
          "output_type": "stream",
          "text": [
            "Generating image for seed 0/50 ...\n",
            "Generating image for seed 1/50 ...\n",
            "Generating image for seed 2/50 ...\n",
            "Generating image for seed 3/50 ...\n",
            "Generating image for seed 4/50 ...\n",
            "Generating image for seed 5/50 ...\n",
            "Generating image for seed 6/50 ...\n",
            "Generating image for seed 7/50 ...\n",
            "Generating image for seed 8/50 ...\n",
            "Generating image for seed 9/50 ...\n",
            "Generating image for seed 10/50 ...\n",
            "Generating image for seed 11/50 ...\n",
            "Generating image for seed 12/50 ...\n",
            "Generating image for seed 13/50 ...\n",
            "Generating image for seed 14/50 ...\n",
            "Generating image for seed 15/50 ...\n",
            "Generating image for seed 16/50 ...\n",
            "Generating image for seed 17/50 ...\n",
            "Generating image for seed 18/50 ...\n",
            "Generating image for seed 19/50 ...\n",
            "Generating image for seed 20/50 ...\n",
            "Generating image for seed 21/50 ...\n",
            "Generating image for seed 22/50 ...\n",
            "Generating image for seed 23/50 ...\n",
            "Generating image for seed 24/50 ...\n",
            "Generating image for seed 25/50 ...\n",
            "Generating image for seed 26/50 ...\n",
            "Generating image for seed 27/50 ...\n",
            "Generating image for seed 28/50 ...\n",
            "Generating image for seed 29/50 ...\n",
            "Generating image for seed 30/50 ...\n",
            "Generating image for seed 31/50 ...\n",
            "Generating image for seed 32/50 ...\n",
            "Generating image for seed 33/50 ...\n",
            "Generating image for seed 34/50 ...\n",
            "Generating image for seed 35/50 ...\n",
            "Generating image for seed 36/50 ...\n",
            "Generating image for seed 37/50 ...\n",
            "Generating image for seed 38/50 ...\n",
            "Generating image for seed 39/50 ...\n",
            "Generating image for seed 40/50 ...\n",
            "Generating image for seed 41/50 ...\n",
            "Generating image for seed 42/50 ...\n",
            "Generating image for seed 43/50 ...\n",
            "Generating image for seed 44/50 ...\n",
            "Generating image for seed 45/50 ...\n",
            "Generating image for seed 46/50 ...\n",
            "Generating image for seed 47/50 ...\n",
            "Generating image for seed 48/50 ...\n",
            "Generating image for seed 49/50 ...\n"
          ],
          "name": "stdout"
        }
      ]
    },
    {
      "cell_type": "code",
      "metadata": {
        "id": "V7-lM-TB_DZn"
      },
      "source": [
        ""
      ],
      "execution_count": null,
      "outputs": []
    }
  ]
}